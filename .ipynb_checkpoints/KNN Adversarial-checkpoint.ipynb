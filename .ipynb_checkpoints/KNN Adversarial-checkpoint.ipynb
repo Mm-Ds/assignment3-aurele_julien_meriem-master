{
 "cells": [
  {
   "cell_type": "code",
   "execution_count": 55,
   "metadata": {},
   "outputs": [],
   "source": [
    "from model import Model\n",
    "from attacks import *\n",
    "from matplotlib import pyplot as plt\n",
    "from scipy.spatial.distance import euclidean\n",
    "import torch\n",
    "import matplotlib.pyplot as plt\n",
    "from torchvision.transforms import Normalize\n",
    "import numpy as np\n",
    "from scipy.spatial.distance import euclidean"
   ]
  },
  {
   "cell_type": "code",
   "execution_count": 2,
   "metadata": {},
   "outputs": [
    {
     "name": "stdout",
     "output_type": "stream",
     "text": [
      "cuda:0\n"
     ]
    }
   ],
   "source": [
    "model = Model()"
   ]
  },
  {
   "cell_type": "code",
   "execution_count": 4,
   "metadata": {},
   "outputs": [],
   "source": [
    "model.loadModel()"
   ]
  },
  {
   "cell_type": "code",
   "execution_count": 7,
   "metadata": {},
   "outputs": [
    {
     "name": "stdout",
     "output_type": "stream",
     "text": [
      "Files already downloaded and verified\n"
     ]
    }
   ],
   "source": [
    "model.loadData(bs=1)"
   ]
  },
  {
   "cell_type": "code",
   "execution_count": 8,
   "metadata": {},
   "outputs": [
    {
     "data": {
      "text/plain": [
       "['airplane',\n",
       " 'automobile',\n",
       " 'bird',\n",
       " 'cat',\n",
       " 'deer',\n",
       " 'dog',\n",
       " 'frog',\n",
       " 'horse',\n",
       " 'ship',\n",
       " 'truck']"
      ]
     },
     "execution_count": 8,
     "metadata": {},
     "output_type": "execute_result"
    }
   ],
   "source": [
    "classes = model.dataset.classes\n",
    "classes"
   ]
  },
  {
   "cell_type": "code",
   "execution_count": 38,
   "metadata": {},
   "outputs": [
    {
     "name": "stdout",
     "output_type": "stream",
     "text": [
      "1\n",
      "0\n",
      "10000\n",
      "20000\n",
      "30000\n",
      "40000\n",
      "2\n",
      "0\n",
      "10000\n",
      "20000\n",
      "30000\n",
      "40000\n",
      "3\n",
      "0\n",
      "10000\n",
      "20000\n",
      "30000\n",
      "40000\n",
      "4\n",
      "0\n",
      "10000\n",
      "20000\n",
      "30000\n",
      "40000\n",
      "5\n",
      "0\n",
      "10000\n",
      "20000\n",
      "30000\n",
      "40000\n",
      "6\n",
      "0\n",
      "10000\n",
      "20000\n",
      "30000\n",
      "40000\n"
     ]
    }
   ],
   "source": [
    "for index in range(0,7):\n",
    "    latent_space = []\n",
    "    print(index)\n",
    "    for k,data in enumerate(model.trainset):\n",
    "        img = data[0]\n",
    "        label = data[1]\n",
    "        pred = model.identify(img)\n",
    "        #for i,r in enumerate(model.model.layers):\n",
    "        latent_space.append(model.model.layers[index])\n",
    "        if(k%10000==0):\n",
    "            print(k)\n",
    "    np.save('ls'+str(index)+'.npy',np.array(latent_space))"
   ]
  },
  {
   "cell_type": "code",
   "execution_count": 27,
   "metadata": {},
   "outputs": [],
   "source": [
    "for i,ls in enumerate(latent_space):\n",
    "    l = np.array(ls)\n",
    "    np.save('ls'+str(i)+'.npy',l)"
   ]
  },
  {
   "cell_type": "code",
   "execution_count": 107,
   "metadata": {},
   "outputs": [],
   "source": [
    "def nnel(img,layer_index,K,printt=0):\n",
    "    pred = model.identify(img)\n",
    "    r = model.model.layers\n",
    "    ls = np.load('ls'+str(layer_index)+'.npy',allow_pickle=True)\n",
    "    heap = []\n",
    "    heapq.heapify(heap)\n",
    "    v = r[layer_index]\n",
    "    for i,l in enumerate(ls):\n",
    "        d = euclidean(torch.flatten(l).cpu(),torch.flatten(v).cpu())\n",
    "        if len(heap)==K:\n",
    "            heapq.heappushpop(heap,(-d,i))\n",
    "        else:\n",
    "            heapq.heappush(heap,(-d,i))\n",
    "    if printt==0:\n",
    "        nn = [(h[1],classes[model.trainset[h[1]][1]]) for h in heap]\n",
    "        print(nn)\n",
    "    else:\n",
    "        nn = [0 for i in range(10)]\n",
    "        for h in heap:\n",
    "            nn[model.trainset[h[1]][1]] += 1\n",
    "        print(nn)"
   ]
  },
  {
   "cell_type": "code",
   "execution_count": 39,
   "metadata": {},
   "outputs": [
    {
     "name": "stdout",
     "output_type": "stream",
     "text": [
      "True Label :frog\n",
      "frog\n"
     ]
    },
    {
     "data": {
      "image/png": "[encoded data removed]",
      "text/plain": [
       "<Figure size 432x288 with 1 Axes>"
      ]
     },
     "metadata": {
      "needs_background": "light"
     },
     "output_type": "display_data"
    }
   ],
   "source": [
    "import numpy as np\n",
    "index = 7\n",
    "img = model.testset[index][0]\n",
    "img2 = img/ 2 + 0.5     # unnormalize\n",
    "label = model.testset[index][1]\n",
    "npimg = img2.numpy()\n",
    "print('True Label :' + classes[label])\n",
    "plt.imshow(np.transpose(npimg, (1, 2, 0)))\n",
    "#plt.show()\n",
    "pred = model.identify(img)\n",
    "print(classes[pred])"
   ]
  },
  {
   "cell_type": "code",
   "execution_count": 42,
   "metadata": {},
   "outputs": [
    {
     "data": {
      "text/plain": [
       "7"
      ]
     },
     "execution_count": 42,
     "metadata": {},
     "output_type": "execute_result"
    }
   ],
   "source": [
    "r = model.model.layers\n",
    "len(r)"
   ]
  },
  {
   "cell_type": "code",
   "execution_count": 77,
   "metadata": {},
   "outputs": [
    {
     "name": "stdout",
     "output_type": "stream",
     "text": [
      "model identify it as frog\n",
      "['frog', 'deer', 'deer', 'frog', 'deer', 'deer', 'frog', 'deer']\n"
     ]
    }
   ],
   "source": [
    "nnel(img,0,8)"
   ]
  },
  {
   "cell_type": "code",
   "execution_count": 78,
   "metadata": {},
   "outputs": [
    {
     "name": "stdout",
     "output_type": "stream",
     "text": [
      "model identify it as frog\n",
      "['deer', 'deer', 'deer', 'deer', 'frog', 'deer', 'deer', 'deer']\n"
     ]
    }
   ],
   "source": [
    "nnel(img,1,8)"
   ]
  },
  {
   "cell_type": "code",
   "execution_count": 79,
   "metadata": {},
   "outputs": [
    {
     "name": "stdout",
     "output_type": "stream",
     "text": [
      "model identify it as frog\n",
      "['deer', 'frog', 'deer', 'deer', 'deer', 'deer', 'deer', 'bird']\n"
     ]
    }
   ],
   "source": [
    "nnel(img,2,8)"
   ]
  },
  {
   "cell_type": "code",
   "execution_count": 80,
   "metadata": {},
   "outputs": [
    {
     "name": "stdout",
     "output_type": "stream",
     "text": [
      "model identify it as frog\n",
      "['deer', 'deer', 'deer', 'bird', 'bird', 'frog', 'deer', 'deer']\n"
     ]
    }
   ],
   "source": [
    "nnel(img,3,8)"
   ]
  },
  {
   "cell_type": "code",
   "execution_count": 81,
   "metadata": {},
   "outputs": [
    {
     "name": "stdout",
     "output_type": "stream",
     "text": [
      "model identify it as frog\n",
      "['deer', 'deer', 'deer', 'bird', 'bird', 'frog', 'deer', 'deer']\n"
     ]
    }
   ],
   "source": [
    "nnel(img,4,8)"
   ]
  },
  {
   "cell_type": "code",
   "execution_count": 82,
   "metadata": {},
   "outputs": [
    {
     "name": "stdout",
     "output_type": "stream",
     "text": [
      "model identify it as frog\n",
      "['deer', 'cat', 'cat', 'frog', 'cat', 'deer', 'cat', 'deer']\n"
     ]
    }
   ],
   "source": [
    "nnel(img,5,8)"
   ]
  },
  {
   "cell_type": "code",
   "execution_count": 83,
   "metadata": {},
   "outputs": [
    {
     "name": "stdout",
     "output_type": "stream",
     "text": [
      "model identify it as frog\n",
      "['frog', 'deer', 'cat', 'deer', 'bird', 'frog', 'frog', 'frog']\n"
     ]
    }
   ],
   "source": [
    "nnel(img,6,8)"
   ]
  },
  {
   "cell_type": "code",
   "execution_count": 93,
   "metadata": {},
   "outputs": [
    {
     "name": "stdout",
     "output_type": "stream",
     "text": [
      "-------------layer 0---------------\n",
      "[(28998, 'frog'), (10, 'deer'), (19208, 'deer'), (49135, 'frog'), (32024, 'deer'), (46644, 'deer'), (49261, 'frog'), (7811, 'deer')]\n",
      "-------------layer 1---------------\n",
      "[(23309, 'deer'), (16254, 'deer'), (19208, 'deer'), (45801, 'deer'), (49135, 'frog'), (32024, 'deer'), (46644, 'deer'), (7811, 'deer')]\n",
      "-------------layer 2---------------\n",
      "[(31281, 'deer'), (39134, 'frog'), (16254, 'deer'), (12075, 'deer'), (9506, 'deer'), (14073, 'deer'), (39942, 'deer'), (31501, 'bird')]\n",
      "-------------layer 3---------------\n",
      "[(22230, 'deer'), (9643, 'deer'), (15683, 'deer'), (26213, 'bird'), (31501, 'bird'), (35745, 'frog'), (979, 'deer'), (9506, 'deer')]\n",
      "-------------layer 4---------------\n",
      "[(22230, 'deer'), (9643, 'deer'), (15683, 'deer'), (26213, 'bird'), (31501, 'bird'), (35745, 'frog'), (979, 'deer'), (9506, 'deer')]\n",
      "-------------layer 5---------------\n",
      "[(13292, 'deer'), (26261, 'cat'), (16547, 'cat'), (40568, 'frog'), (43836, 'cat'), (32969, 'deer'), (13584, 'cat'), (9359, 'deer')]\n",
      "-------------layer 6---------------\n",
      "[(4907, 'frog'), (12478, 'deer'), (11047, 'cat'), (18690, 'deer'), (6921, 'bird'), (40164, 'frog'), (33733, 'frog'), (30100, 'frog')]\n"
     ]
    }
   ],
   "source": [
    "for i in range(7):\n",
    "    print('-------------layer '+str(i)+'---------------')\n",
    "    nnel(img,i,8)"
   ]
  },
  {
   "cell_type": "code",
   "execution_count": 89,
   "metadata": {},
   "outputs": [],
   "source": [
    "#FGSM PARAMTERS:\n",
    "fgsm_params={'eps':0.05}\n",
    "fgsm = FGSM_Attack(model)\n",
    "new_img= fgsm.generate_adv((img[None, ...]).to(model.device),\n",
    "                                     torch.tensor([label]).to(model.device),\n",
    "                                     **fgsm_params)\n",
    "new_img = new_img[0]"
   ]
  },
  {
   "cell_type": "code",
   "execution_count": 94,
   "metadata": {},
   "outputs": [
    {
     "name": "stdout",
     "output_type": "stream",
     "text": [
      "-------------layer 0---------------\n",
      "[(28998, 'frog'), (49135, 'frog'), (19208, 'deer'), (10, 'deer'), (46644, 'deer'), (49261, 'frog'), (7811, 'deer'), (32024, 'deer')]\n",
      "-------------layer 1---------------\n",
      "[(49135, 'frog'), (46644, 'deer'), (16254, 'deer'), (10, 'deer'), (32024, 'deer'), (7811, 'deer'), (1692, 'deer'), (19208, 'deer')]\n",
      "-------------layer 2---------------\n",
      "[(39942, 'deer'), (43276, 'deer'), (16254, 'deer'), (10, 'deer'), (3522, 'deer'), (2520, 'deer'), (12075, 'deer'), (31501, 'bird')]\n",
      "-------------layer 3---------------\n",
      "[(34322, 'frog'), (35745, 'frog'), (9502, 'deer'), (28620, 'deer'), (3522, 'deer'), (31501, 'bird'), (47425, 'deer'), (29419, 'deer')]\n",
      "-------------layer 4---------------\n",
      "[(34322, 'frog'), (35745, 'frog'), (9502, 'deer'), (28620, 'deer'), (3522, 'deer'), (31501, 'bird'), (47425, 'deer'), (29419, 'deer')]\n",
      "-------------layer 5---------------\n",
      "[(41168, 'cat'), (42603, 'deer'), (18497, 'cat'), (42907, 'deer'), (13292, 'deer'), (34144, 'deer'), (37345, 'deer'), (10561, 'deer')]\n",
      "-------------layer 6---------------\n",
      "[(43550, 'deer'), (41216, 'deer'), (41657, 'deer'), (25776, 'deer'), (36406, 'deer'), (7574, 'deer'), (32373, 'deer'), (38824, 'deer')]\n"
     ]
    }
   ],
   "source": [
    "for i in range(7):\n",
    "    print('-------------layer '+str(i)+'---------------')\n",
    "    nnel(new_img,i,8)"
   ]
  },
  {
   "cell_type": "code",
   "execution_count": 109,
   "metadata": {},
   "outputs": [
    {
     "name": "stdout",
     "output_type": "stream",
     "text": [
      "[2, 0, 22, 2, 58, 0, 16, 0, 0, 0]\n"
     ]
    }
   ],
   "source": [
    "nnel(img,4,100,printt=1)"
   ]
  },
  {
   "cell_type": "code",
   "execution_count": 110,
   "metadata": {},
   "outputs": [
    {
     "name": "stdout",
     "output_type": "stream",
     "text": [
      "[0, 0, 16, 4, 68, 0, 12, 0, 0, 0]\n"
     ]
    }
   ],
   "source": [
    "nnel(new_img,4,100,printt=1)"
   ]
  },
  {
   "cell_type": "code",
   "execution_count": 116,
   "metadata": {},
   "outputs": [
    {
     "name": "stdout",
     "output_type": "stream",
     "text": [
      "[1, 0, 7, 24, 40, 2, 22, 2, 2, 0]\n"
     ]
    }
   ],
   "source": [
    "nnel(img,5,100,printt=1)"
   ]
  },
  {
   "cell_type": "code",
   "execution_count": 117,
   "metadata": {},
   "outputs": [
    {
     "name": "stdout",
     "output_type": "stream",
     "text": [
      "[0, 0, 5, 6, 81, 2, 1, 5, 0, 0]\n"
     ]
    }
   ],
   "source": [
    "nnel(new_img,5,100,printt=1)"
   ]
  },
  {
   "cell_type": "code",
   "execution_count": 115,
   "metadata": {},
   "outputs": [
    {
     "data": {
      "text/plain": [
       "'frog'"
      ]
     },
     "execution_count": 115,
     "metadata": {},
     "output_type": "execute_result"
    }
   ],
   "source": [
    "classes[6]"
   ]
  },
  {
   "cell_type": "code",
   "execution_count": 112,
   "metadata": {},
   "outputs": [
    {
     "name": "stdout",
     "output_type": "stream",
     "text": [
      "[0, 0, 11, 33, 28, 1, 25, 2, 0, 0]\n"
     ]
    }
   ],
   "source": [
    "nnel(img,6,100,printt=1)"
   ]
  },
  {
   "cell_type": "code",
   "execution_count": 113,
   "metadata": {},
   "outputs": [
    {
     "name": "stdout",
     "output_type": "stream",
     "text": [
      "[0, 0, 0, 3, 93, 1, 0, 3, 0, 0]\n"
     ]
    }
   ],
   "source": [
    "nnel(new_img,6,100,printt=1)"
   ]
  },
  {
   "cell_type": "code",
   "execution_count": null,
   "metadata": {},
   "outputs": [],
   "source": []
  }
 ],
 "metadata": {
  "kernelspec": {
   "display_name": "Python 3",
   "language": "python",
   "name": "python3"
  },
  "language_info": {
   "codemirror_mode": {
    "name": "ipython",
    "version": 3
   },
   "file_extension": ".py",
   "mimetype": "text/x-python",
   "name": "python",
   "nbconvert_exporter": "python",
   "pygments_lexer": "ipython3",
   "version": "3.7.6"
  }
 },
 "nbformat": 4,
 "nbformat_minor": 4
}
