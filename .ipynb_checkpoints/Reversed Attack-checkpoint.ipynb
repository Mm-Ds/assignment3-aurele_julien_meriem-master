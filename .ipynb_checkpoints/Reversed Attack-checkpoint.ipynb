{
 "cells": [
  {
   "cell_type": "code",
   "execution_count": 2,
   "metadata": {},
   "outputs": [],
   "source": [
    "from model import Model\n",
    "from attacks import *\n",
    "import matplotlib.pyplot as plt\n",
    "import torch\n",
    "import numpy as np\n",
    "\n",
    "import torchvision.utils"
   ]
  },
  {
   "cell_type": "code",
   "execution_count": 3,
   "metadata": {},
   "outputs": [
    {
     "name": "stdout",
     "output_type": "stream",
     "text": [
      "cuda:0\n",
      "Files already downloaded and verified\n",
      "Accuracy of the network on the 10000 test images: 76 %\n"
     ]
    }
   ],
   "source": [
    "net = Model()\n",
    "net.loadModel()\n",
    "net.loadData(bs=1)\n",
    "net.testModel()"
   ]
  },
  {
   "cell_type": "code",
   "execution_count": 4,
   "metadata": {},
   "outputs": [
    {
     "data": {
      "text/plain": [
       "['airplane',\n",
       " 'automobile',\n",
       " 'bird',\n",
       " 'cat',\n",
       " 'deer',\n",
       " 'dog',\n",
       " 'frog',\n",
       " 'horse',\n",
       " 'ship',\n",
       " 'truck']"
      ]
     },
     "execution_count": 4,
     "metadata": {},
     "output_type": "execute_result"
    }
   ],
   "source": [
    "classes = net.dataset.classes\n",
    "classes"
   ]
  },
  {
   "cell_type": "code",
   "execution_count": 5,
   "metadata": {},
   "outputs": [],
   "source": [
    "def imshow(img, title):\n",
    "    npimg = img.numpy()\n",
    "    fig = plt.figure(figsize = (5, 15))\n",
    "    plt.imshow(np.transpose(npimg,(1,2,0)))\n",
    "    plt.title(title)\n",
    "    plt.show()"
   ]
  },
  {
   "cell_type": "code",
   "execution_count": 12,
   "metadata": {},
   "outputs": [],
   "source": [
    "def denormalize(img):\n",
    "    return img / 2 + 0.5"
   ]
  },
  {
   "cell_type": "code",
   "execution_count": null,
   "metadata": {},
   "outputs": [],
   "source": [
    "def test(att, params):\n",
    "    start = []\n",
    "    mid = []\n",
    "    end = []\n",
    "\n",
    "    correct = 0\n",
    "    n = 0\n",
    "\n",
    "    for data in net.testset:\n",
    "        img_src, label = data\n",
    "        if net.identify(img_src) != label:\n",
    "            continue\n",
    "        n += 1\n",
    "        img = img_src / 2 + 0.5     # unnormalize\n",
    "        start.append(label)\n",
    "\n",
    "        new_img = att.generate_adv((img_src[None, ...]).to(net.device),\n",
    "                                         torch.tensor([label]).to(net.device),\n",
    "                                         **params)\n",
    "        _, pred = torch.max(net.model(new_img).data, 1)\n",
    "        pred = pred[0]\n",
    "        new_img = new_img[0]\n",
    "        mid.append(pred)\n",
    "\n",
    "        rev_img= att.generate_adv((new_img[None, ...]).to(net.device),\n",
    "                                         torch.tensor([pred]).to(net.device),\n",
    "                                         **params)\n",
    "        _, pred2 = torch.max(net.model(rev_img).data, 1)\n",
    "        pred2 = pred2[0]\n",
    "        rev_img= rev_img[0]\n",
    "        end.append(pred2)\n",
    "\n",
    "        if pred2 == label:\n",
    "            correct += 1\n",
    "    print(100*correct/n)\n",
    "    return start,mid,end"
   ]
  },
  {
   "cell_type": "code",
   "execution_count": null,
   "metadata": {},
   "outputs": [],
   "source": [
    "def map(start,mid,end):\n",
    "    dicount = {}\n",
    "    dicval = {}\n",
    "    for i, s in enumerate(start):\n",
    "        change = classes[s] + '->' + classes[mid[i]]\n",
    "        if not change in dicount:\n",
    "            dicount[change] = 1\n",
    "        else:\n",
    "            dicount[change] += 1\n",
    "\n",
    "        if end[i] == start:\n",
    "            if not change in dicval:\n",
    "                dicval[change] = 1\n",
    "            else:\n",
    "                dicval[change] += 1\n",
    "        else:\n",
    "            if not change in dicval:\n",
    "                dicval[change] = 0\n",
    "\n",
    "    return dicount, dicval"
   ]
  },
  {
   "cell_type": "code",
   "execution_count": null,
   "metadata": {},
   "outputs": [],
   "source": [
    "    count = [[] for i in range(10)]\n",
    "    perc = [[] for i in range(10)]\n",
    "\n",
    "    for i in range(10):\n",
    "        for j in range(10):\n",
    "            change = classes[i] + '->' + classes[j]\n",
    "            if change in dicount:\n",
    "                count[i].append(dicount[change])\n",
    "                perc[i].append(100 * dicval[change]/dicount[change])\n",
    "            else:\n",
    "                count[i].append(0)\n",
    "                perc[i].append(0)\n",
    "    return count,perc"
   ]
  },
  {
   "cell_type": "code",
   "execution_count": 56,
   "metadata": {},
   "outputs": [
    {
     "name": "stdout",
     "output_type": "stream",
     "text": [
      "True Label :7 frog\n"
     ]
    },
    {
     "data": {
      "image/png": "[encoded data removed]",
      "text/plain": [
       "<Figure size 432x288 with 1 Axes>"
      ]
     },
     "metadata": {
      "needs_background": "light"
     },
     "output_type": "display_data"
    }
   ],
   "source": [
    "index = 7\n",
    "img_src = net.testset[index][0]\n",
    "img = net.testset[index][0] / 2 + 0.5     # unnormalize\n",
    "label = net.testset[index][1]\n",
    "npimg = img.numpy()\n",
    "print('True Label :' + str(index) + ' ' + classes[label])\n",
    "plt.imshow(np.transpose(npimg, (1, 2, 0)))\n",
    "plt.show()"
   ]
  },
  {
   "cell_type": "code",
   "execution_count": 7,
   "metadata": {},
   "outputs": [
    {
     "data": {
      "text/plain": [
       "'frog'"
      ]
     },
     "execution_count": 7,
     "metadata": {},
     "output_type": "execute_result"
    }
   ],
   "source": [
    "pred = net.identify(img_src)\n",
    "classes[pred]"
   ]
  },
  {
   "cell_type": "markdown",
   "metadata": {},
   "source": [
    "## FGSM"
   ]
  },
  {
   "cell_type": "code",
   "execution_count": 8,
   "metadata": {},
   "outputs": [],
   "source": [
    "#FGSM PARAMTERS:\n",
    "fgsm_params={'eps':0.05}"
   ]
  },
  {
   "cell_type": "code",
   "execution_count": 10,
   "metadata": {},
   "outputs": [],
   "source": [
    "fgsm = FGSM_Attack(net)"
   ]
  },
  {
   "cell_type": "code",
   "execution_count": 23,
   "metadata": {},
   "outputs": [
    {
     "data": {
      "image/png": "[encoded data removed]",
      "text/plain": [
       "<Figure size 360x1080 with 1 Axes>"
      ]
     },
     "metadata": {
      "needs_background": "light"
     },
     "output_type": "display_data"
    },
    {
     "name": "stdout",
     "output_type": "stream",
     "text": [
      "real : frog\n",
      "pred : deer\n"
     ]
    }
   ],
   "source": [
    "new_img= fgsm.generate_adv((img_src[None, ...]).to(net.device),\n",
    "                                     torch.tensor([label]).to(net.device),\n",
    "                                     **fgsm_params)\n",
    "\n",
    "new_img= new_img[0]\n",
    "pred = net.identify(new_img)\n",
    "imshow(denormalize(new_img).cpu().detach(),classes[pred])\n",
    "\n",
    "print('real : '+classes[label])\n",
    "print('pred : ' + classes[pred])\n",
    "    \n",
    "plt.show(block=True)"
   ]
  },
  {
   "cell_type": "code",
   "execution_count": 24,
   "metadata": {},
   "outputs": [
    {
     "data": {
      "image/png": "[encoded data removed]",
      "text/plain": [
       "<Figure size 360x1080 with 1 Axes>"
      ]
     },
     "metadata": {
      "needs_background": "light"
     },
     "output_type": "display_data"
    },
    {
     "name": "stdout",
     "output_type": "stream",
     "text": [
      "prev : deer\n",
      "pred : cat\n"
     ]
    }
   ],
   "source": [
    "rev_img= fgsm.generate_adv((new_img[None, ...]).to(net.device),\n",
    "                                     torch.tensor([pred]).to(net.device),\n",
    "                                     **fgsm_params)\n",
    "\n",
    "rev_img= rev_img[0]\n",
    "pred2 = net.identify(rev_img)\n",
    "imshow(denormalize(rev_img).cpu().detach(),classes[pred2])\n",
    "\n",
    "print('prev : '+classes[pred])\n",
    "print('pred : ' + classes[pred2])\n",
    "    \n",
    "plt.show(block=True)"
   ]
  },
  {
   "cell_type": "code",
   "execution_count": 26,
   "metadata": {},
   "outputs": [
    {
     "name": "stdout",
     "output_type": "stream",
     "text": [
      "26.505390481199054\n"
     ]
    }
   ],
   "source": [
    "start = []\n",
    "mid = []\n",
    "end = []\n",
    "result = []\n",
    "\n",
    "correct = 0\n",
    "n = 0\n",
    "\n",
    "for data in net.testset:\n",
    "    img_src, label = data\n",
    "    if net.identify(img_src) != label:\n",
    "        continue\n",
    "    n += 1\n",
    "    img = img_src / 2 + 0.5     # unnormalize\n",
    "    start.append(label)\n",
    "    \n",
    "    new_img = fgsm.generate_adv((img_src[None, ...]).to(net.device),\n",
    "                                     torch.tensor([label]).to(net.device),\n",
    "                                     **fgsm_params)\n",
    "    new_img = new_img[0]\n",
    "    pred = net.identify(new_img)\n",
    "    mid.append(pred)\n",
    "    \n",
    "    rev_img= fgsm.generate_adv((new_img[None, ...]).to(net.device),\n",
    "                                     torch.tensor([pred]).to(net.device),\n",
    "                                     **fgsm_params)\n",
    "    rev_img= rev_img[0]\n",
    "    pred2 = net.identify(rev_img)\n",
    "    end.append(pred2)\n",
    "    \n",
    "    if pred2 != label:\n",
    "        result.append(0)\n",
    "    else:\n",
    "        result.append(1)\n",
    "        correct += 1\n",
    "print(100*correct/n)"
   ]
  },
  {
   "cell_type": "code",
   "execution_count": 31,
   "metadata": {
    "scrolled": true
   },
   "outputs": [
    {
     "name": "stdout",
     "output_type": "stream",
     "text": [
      "cat->dog 28.176795580110497\n",
      "ship->automobile 29.310344827586206\n",
      "ship->bird 18.64406779661017\n",
      "airplane->ship 43.47826086956522\n",
      "frog->deer 22.123893805309734\n",
      "frog->cat 11.764705882352942\n",
      "automobile->truck 62.264150943396224\n",
      "cat->deer 5.454545454545454\n",
      "airplane->deer 25.757575757575758\n",
      "truck->automobile 76.15062761506276\n",
      "dog->deer 0.0\n",
      "horse->dog 21.80094786729858\n",
      "ship->frog 8.0\n",
      "dog->horse 17.821782178217823\n",
      "horse->cat 4.761904761904762\n",
      "ship->truck 20.987654320987655\n",
      "airplane->bird 52.83018867924528\n",
      "deer->bird 17.12707182320442\n",
      "truck->truck 12.359550561797754\n",
      "bird->truck 14.285714285714286\n",
      "deer->cat 8.571428571428571\n",
      "dog->bird 17.419354838709676\n",
      "deer->frog 7.407407407407407\n",
      "dog->cat 18.94273127753304\n",
      "truck->horse 19.642857142857142\n",
      "deer->dog 5.05050505050505\n",
      "deer->airplane 20.0\n",
      "frog->frog 6.976744186046512\n",
      "frog->dog 11.940298507462687\n",
      "horse->deer 23.305084745762713\n",
      "frog->bird 27.272727272727273\n",
      "truck->airplane 28.31858407079646\n",
      "airplane->frog 11.538461538461538\n",
      "cat->frog 10.447761194029852\n",
      "ship->airplane 34.4559585492228\n",
      "bird->frog 12.162162162162161\n",
      "automobile->ship 22.580645161290324\n",
      "bird->airplane 33.333333333333336\n",
      "airplane->horse 16.666666666666668\n",
      "ship->ship 2.380952380952381\n",
      "automobile->automobile 21.296296296296298\n",
      "horse->bird 11.428571428571429\n",
      "frog->horse 16.129032258064516\n",
      "horse->truck 12.67605633802817\n",
      "dog->frog 4.761904761904762\n",
      "horse->frog 2.7777777777777777\n",
      "bird->cat 2.7777777777777777\n",
      "cat->bird 5.769230769230769\n",
      "bird->dog 15.88785046728972\n",
      "automobile->airplane 15.09433962264151\n",
      "frog->airplane 20.0\n",
      "truck->deer 6.666666666666667\n",
      "airplane->automobile 20.0\n",
      "deer->horse 23.076923076923077\n",
      "truck->ship 29.62962962962963\n",
      "horse->airplane 5.882352941176471\n",
      "airplane->cat 7.142857142857143\n",
      "ship->cat 23.076923076923077\n",
      "bird->deer 12.280701754385966\n",
      "horse->automobile 0.0\n",
      "bird->horse 11.904761904761905\n",
      "dog->truck 6.0606060606060606\n",
      "airplane->airplane 1.2987012987012987\n",
      "truck->frog 6.666666666666667\n",
      "bird->ship 21.73913043478261\n",
      "cat->horse 4.444444444444445\n",
      "frog->automobile 15.09433962264151\n",
      "deer->truck 11.764705882352942\n",
      "bird->bird 0.0\n",
      "horse->ship 11.11111111111111\n",
      "truck->cat 0.0\n",
      "airplane->truck 32.323232323232325\n",
      "frog->ship 17.24137931034483\n",
      "airplane->dog 0.0\n",
      "dog->airplane 10.526315789473685\n",
      "deer->automobile 0.0\n",
      "cat->ship 9.523809523809524\n",
      "ship->deer 16.0\n",
      "dog->dog 2.7027027027027026\n",
      "frog->truck 14.285714285714286\n",
      "dog->ship 0.0\n",
      "deer->ship 11.764705882352942\n",
      "cat->truck 6.25\n",
      "cat->automobile 0.0\n",
      "automobile->dog 0.0\n",
      "truck->bird 21.05263157894737\n",
      "horse->horse 33.333333333333336\n",
      "ship->dog 25.0\n",
      "automobile->bird 8.333333333333334\n",
      "cat->cat 0.0\n",
      "ship->horse 0.0\n",
      "automobile->frog 5.0\n",
      "cat->airplane 10.526315789473685\n",
      "dog->automobile 20.0\n",
      "bird->automobile 7.6923076923076925\n",
      "truck->dog 13.333333333333334\n",
      "automobile->horse 0.0\n",
      "deer->deer 0.0\n",
      "automobile->deer 0.0\n",
      "automobile->cat 0.0\n"
     ]
    }
   ],
   "source": [
    "dicount = {}\n",
    "dicval = {}\n",
    "for i, s in enumerate(start):\n",
    "    change = classes[s] + '->' + classes[mid[i]]\n",
    "    if not change in dicount:\n",
    "        dicount[change] = 1\n",
    "    else:\n",
    "        dicount[change] += 1\n",
    "    \n",
    "    if result[i] == 1:\n",
    "        if not change in dicval:\n",
    "            dicval[change] = 1\n",
    "        else:\n",
    "            dicval[change] += 1\n",
    "    else:\n",
    "        if not change in dicval:\n",
    "            dicval[change] = 0\n",
    "            \n",
    "for key in dicount:\n",
    "    print(key + ' ' + str(100*dicval[key]/dicount[key]))"
   ]
  },
  {
   "cell_type": "code",
   "execution_count": 32,
   "metadata": {},
   "outputs": [],
   "source": [
    "count = [[] for i in range(10)]\n",
    "perc = [[] for i in range(10)]\n",
    "\n",
    "for i in range(10):\n",
    "    for j in range(10):\n",
    "        change = classes[i] + '->' + classes[j]\n",
    "        if change in dicount:\n",
    "            count[i].append(dicount[change])\n",
    "            perc[i].append(100 * dicval[change]/dicount[change])\n",
    "        else:\n",
    "            count[i].append(0)\n",
    "            perc[i].append(0)"
   ]
  },
  {
   "cell_type": "code",
   "execution_count": 37,
   "metadata": {},
   "outputs": [
    {
     "data": {
      "text/plain": [
       "[[77, 40, 265, 28, 66, 13, 26, 18, 161, 99],\n",
       " [53, 108, 12, 7, 7, 6, 20, 5, 93, 583],\n",
       " [96, 13, 32, 72, 114, 107, 148, 42, 23, 21],\n",
       " [19, 16, 52, 7, 55, 181, 67, 45, 21, 32],\n",
       " [15, 9, 181, 70, 6, 99, 189, 104, 17, 17],\n",
       " [19, 10, 155, 227, 38, 37, 63, 101, 9, 33],\n",
       " [20, 53, 187, 136, 226, 67, 43, 31, 29, 63],\n",
       " [34, 18, 70, 42, 236, 211, 36, 63, 9, 71],\n",
       " [386, 116, 59, 13, 25, 4, 25, 12, 42, 162],\n",
       " [113, 478, 19, 14, 15, 15, 15, 56, 54, 89]]"
      ]
     },
     "execution_count": 37,
     "metadata": {},
     "output_type": "execute_result"
    }
   ],
   "source": [
    "count"
   ]
  },
  {
   "cell_type": "code",
   "execution_count": 36,
   "metadata": {},
   "outputs": [
    {
     "data": {
      "text/plain": [
       "<matplotlib.colorbar.Colorbar at 0x2693a5d7908>"
      ]
     },
     "execution_count": 36,
     "metadata": {},
     "output_type": "execute_result"
    },
    {
     "data": {
      "image/png": "[encoded data removed]",
      "text/plain": [
       "<Figure size 432x288 with 2 Axes>"
      ]
     },
     "metadata": {
      "needs_background": "light"
     },
     "output_type": "display_data"
    }
   ],
   "source": [
    "plt.xticks(ticks=np.arange(len(classes)),labels=classes,rotation=90)\n",
    "plt.yticks(ticks=np.arange(len(classes)),labels=classes)\n",
    "hm = plt.imshow(count, cmap='Blues',interpolation=\"nearest\")\n",
    "plt.colorbar(hm)"
   ]
  },
  {
   "cell_type": "code",
   "execution_count": 39,
   "metadata": {},
   "outputs": [
    {
     "data": {
      "text/plain": [
       "<matplotlib.colorbar.Colorbar at 0x2694d50ab48>"
      ]
     },
     "execution_count": 39,
     "metadata": {},
     "output_type": "execute_result"
    },
    {
     "data": {
      "image/png": "[encoded data removed]",
      "text/plain": [
       "<Figure size 432x288 with 2 Axes>"
      ]
     },
     "metadata": {
      "needs_background": "light"
     },
     "output_type": "display_data"
    }
   ],
   "source": [
    "plt.xticks(ticks=np.arange(len(classes)),labels=classes,rotation=90)\n",
    "plt.yticks(ticks=np.arange(len(classes)),labels=classes)\n",
    "hm = plt.imshow(perc, cmap='Blues',interpolation=\"nearest\")\n",
    "plt.colorbar(hm)"
   ]
  },
  {
   "cell_type": "code",
   "execution_count": 47,
   "metadata": {},
   "outputs": [
    {
     "data": {
      "text/plain": [
       "array([[ 0.        , 20.        , 52.83018868,  0.        , 25.75757576,\n",
       "         0.        ,  0.        , 16.66666667, 43.47826087, 32.32323232],\n",
       "       [15.09433962, 21.2962963 ,  0.        ,  0.        ,  0.        ,\n",
       "         0.        ,  0.        ,  0.        , 22.58064516, 62.26415094],\n",
       "       [33.33333333,  0.        ,  0.        ,  0.        ,  0.        ,\n",
       "        15.88785047,  0.        ,  0.        , 21.73913043,  0.        ],\n",
       "       [ 0.        ,  0.        ,  0.        ,  0.        ,  0.        ,\n",
       "        28.17679558,  0.        ,  0.        ,  0.        ,  0.        ],\n",
       "       [20.        ,  0.        , 17.12707182,  0.        ,  0.        ,\n",
       "         0.        ,  0.        , 23.07692308,  0.        ,  0.        ],\n",
       "       [ 0.        , 20.        , 17.41935484, 18.94273128,  0.        ,\n",
       "         0.        ,  0.        , 17.82178218,  0.        ,  0.        ],\n",
       "       [20.        , 15.09433962, 27.27272727,  0.        , 22.12389381,\n",
       "         0.        ,  0.        , 16.12903226, 17.24137931,  0.        ],\n",
       "       [ 0.        ,  0.        ,  0.        ,  0.        , 23.30508475,\n",
       "        21.80094787,  0.        , 33.33333333,  0.        ,  0.        ],\n",
       "       [34.45595855, 29.31034483, 18.6440678 , 23.07692308, 16.        ,\n",
       "        25.        ,  0.        ,  0.        ,  0.        , 20.98765432],\n",
       "       [28.31858407, 76.15062762, 21.05263158,  0.        ,  0.        ,\n",
       "         0.        ,  0.        , 19.64285714, 29.62962963,  0.        ]])"
      ]
     },
     "execution_count": 47,
     "metadata": {},
     "output_type": "execute_result"
    }
   ],
   "source": [
    "threshold = 15\n",
    "perc2 = np.array(perc)\n",
    "perc2[perc2<threshold]=0\n",
    "perc2"
   ]
  },
  {
   "cell_type": "code",
   "execution_count": 48,
   "metadata": {},
   "outputs": [
    {
     "data": {
      "text/plain": [
       "<matplotlib.colorbar.Colorbar at 0x2695404ca08>"
      ]
     },
     "execution_count": 48,
     "metadata": {},
     "output_type": "execute_result"
    },
    {
     "data": {
      "image/png": "[encoded data removed]",
      "text/plain": [
       "<Figure size 432x288 with 2 Axes>"
      ]
     },
     "metadata": {
      "needs_background": "light"
     },
     "output_type": "display_data"
    }
   ],
   "source": [
    "plt.xticks(ticks=np.arange(len(classes)),labels=classes,rotation=90)\n",
    "plt.yticks(ticks=np.arange(len(classes)),labels=classes)\n",
    "hm = plt.imshow(perc2, cmap='Blues',interpolation=\"nearest\")\n",
    "plt.colorbar(hm)"
   ]
  },
  {
   "cell_type": "markdown",
   "metadata": {},
   "source": [
    "## L2 PGD"
   ]
  },
  {
   "cell_type": "code",
   "execution_count": 49,
   "metadata": {},
   "outputs": [],
   "source": [
    "pgd= PGD_Attack(net)"
   ]
  },
  {
   "cell_type": "code",
   "execution_count": 50,
   "metadata": {},
   "outputs": [],
   "source": [
    "#PARAMTERS:\n",
    "pgd_params={'eps': 0.8,\n",
    "            'step':0.01,\n",
    "            'norm':2,\n",
    "            'n_iterations':25}"
   ]
  },
  {
   "cell_type": "code",
   "execution_count": 58,
   "metadata": {},
   "outputs": [
    {
     "data": {
      "image/png": "[encoded data removed]",
      "text/plain": [
       "<Figure size 360x1080 with 1 Axes>"
      ]
     },
     "metadata": {
      "needs_background": "light"
     },
     "output_type": "display_data"
    },
    {
     "name": "stdout",
     "output_type": "stream",
     "text": [
      "real : frog\n",
      "pred : deer\n"
     ]
    }
   ],
   "source": [
    "adv_img = pgd.generate_adv((img_src[None, ...]).to(net.device),\n",
    "                                     torch.tensor([label]).to(net.device),\n",
    "                                     **pgd_params)\n",
    "_, pred = torch.max(net.model(adv_img).data, 1)\n",
    "pred = pred[0]\n",
    "adv_img = adv_img[0]\n",
    "\n",
    "imshow(denormalize(adv_img).cpu().detach(),classes[pred])\n",
    "print('real : '+classes[label])\n",
    "print('pred : ' + classes[pred])"
   ]
  },
  {
   "cell_type": "code",
   "execution_count": 59,
   "metadata": {},
   "outputs": [
    {
     "data": {
      "image/png": "[encoded data removed]",
      "text/plain": [
       "<Figure size 360x1080 with 1 Axes>"
      ]
     },
     "metadata": {
      "needs_background": "light"
     },
     "output_type": "display_data"
    },
    {
     "name": "stdout",
     "output_type": "stream",
     "text": [
      "prev : deer\n",
      "pred : frog\n"
     ]
    }
   ],
   "source": [
    "rev_img = pgd.generate_adv((adv_img[None, ...]).to(net.device),\n",
    "                                     torch.tensor([pred]).to(net.device),\n",
    "                                     **pgd_params)\n",
    "_, pred2 = torch.max(net.model(rev_img).data, 1)\n",
    "pred2 = pred2[0]\n",
    "rev_img = rev_img[0]\n",
    "\n",
    "imshow(denormalize(rev_img).cpu().detach(),classes[pred2])\n",
    "print('prev : '+classes[pred])\n",
    "print('pred : ' + classes[pred2])"
   ]
  },
  {
   "cell_type": "code",
   "execution_count": 61,
   "metadata": {},
   "outputs": [
    {
     "name": "stdout",
     "output_type": "stream",
     "text": [
      "59.781751249013936\n"
     ]
    }
   ],
   "source": [
    "start = []\n",
    "mid = []\n",
    "end = []\n",
    "result = []\n",
    "\n",
    "correct = 0\n",
    "n = 0\n",
    "\n",
    "for data in net.testset:\n",
    "    img_src, label = data\n",
    "    if net.identify(img_src) != label:\n",
    "        continue\n",
    "    n += 1\n",
    "    img = img_src / 2 + 0.5     # unnormalize\n",
    "    start.append(label)\n",
    "    \n",
    "    new_img = pgd.generate_adv((img_src[None, ...]).to(net.device),\n",
    "                                     torch.tensor([label]).to(net.device),\n",
    "                                     **pgd_params)\n",
    "    _, pred = torch.max(net.model(new_img).data, 1)\n",
    "    pred = pred[0]\n",
    "    new_img = new_img[0]\n",
    "    mid.append(pred)\n",
    "    \n",
    "    rev_img= pgd.generate_adv((new_img[None, ...]).to(net.device),\n",
    "                                     torch.tensor([pred]).to(net.device),\n",
    "                                     **pgd_params)\n",
    "    _, pred2 = torch.max(net.model(rev_img).data, 1)\n",
    "    pred2 = pred2[0]\n",
    "    rev_img= rev_img[0]\n",
    "    end.append(pred2)\n",
    "    \n",
    "    if pred2 != label:\n",
    "        result.append(0)\n",
    "    else:\n",
    "        result.append(1)\n",
    "        correct += 1\n",
    "print(100*correct/n)"
   ]
  },
  {
   "cell_type": "code",
   "execution_count": 62,
   "metadata": {},
   "outputs": [
    {
     "name": "stdout",
     "output_type": "stream",
     "text": [
      "cat->dog 82.48175182481752\n",
      "ship->ship 6.746031746031746\n",
      "ship->airplane 86.06271777003484\n",
      "airplane->ship 89.20863309352518\n",
      "frog->deer 75.69060773480663\n",
      "frog->dog 68.33333333333333\n",
      "automobile->truck 94.23728813559322\n",
      "cat->deer 63.63636363636363\n",
      "airplane->deer 77.08333333333333\n",
      "truck->truck 15.053763440860216\n",
      "dog->deer 60.0\n",
      "horse->horse 19.455252918287936\n",
      "ship->frog 64.0\n",
      "dog->horse 86.17021276595744\n",
      "horse->truck 72.72727272727273\n",
      "frog->frog 9.5\n",
      "airplane->bird 86.08247422680412\n",
      "deer->bird 72.94117647058823\n",
      "bird->truck 62.5\n",
      "deer->cat 42.622950819672134\n",
      "truck->automobile 96.47887323943662\n",
      "frog->cat 58.58585858585859\n",
      "dog->bird 81.10236220472441\n",
      "deer->frog 78.125\n",
      "dog->frog 72.1311475409836\n",
      "truck->airplane 80.0\n",
      "deer->dog 70.0\n",
      "dog->dog 16.95906432748538\n",
      "deer->airplane 52.63157894736842\n",
      "airplane->airplane 13.247863247863247\n",
      "truck->horse 91.83673469387755\n",
      "horse->deer 78.01418439716312\n",
      "airplane->frog 52.63157894736842\n",
      "cat->frog 63.333333333333336\n",
      "horse->dog 77.02702702702703\n",
      "bird->frog 77.19298245614036\n",
      "automobile->ship 93.44262295081967\n",
      "bird->airplane 84.50704225352112\n",
      "frog->bird 75.40983606557377\n",
      "airplane->horse 76.19047619047619\n",
      "bird->bird 18.548387096774192\n",
      "automobile->automobile 21.460176991150444\n",
      "horse->bird 78.68852459016394\n",
      "ship->truck 81.48148148148148\n",
      "bird->cat 57.377049180327866\n",
      "cat->automobile 52.94117647058823\n",
      "bird->dog 72.81553398058253\n",
      "ship->automobile 85.71428571428571\n",
      "ship->bird 75.51020408163265\n",
      "dog->cat 73.80952380952381\n",
      "automobile->dog 50.0\n",
      "frog->airplane 72.0\n",
      "airplane->automobile 82.3529411764706\n",
      "deer->horse 86.23853211009174\n",
      "truck->ship 93.47826086956522\n",
      "horse->airplane 76.0\n",
      "airplane->cat 38.095238095238095\n",
      "cat->bird 63.1578947368421\n",
      "ship->cat 90.0\n",
      "bird->deer 74.0\n",
      "horse->automobile 71.42857142857143\n",
      "horse->frog 40.0\n",
      "bird->horse 66.66666666666667\n",
      "frog->horse 75.75757575757575\n",
      "dog->truck 83.72093023255815\n",
      "truck->frog 58.333333333333336\n",
      "bird->ship 75.0\n",
      "deer->deer 2.9411764705882355\n",
      "cat->horse 58.8235294117647\n",
      "frog->automobile 66.66666666666667\n",
      "frog->truck 74.57627118644068\n",
      "truck->cat 43.75\n",
      "airplane->truck 79.16666666666667\n",
      "frog->ship 57.142857142857146\n",
      "dog->airplane 68.75\n",
      "dog->ship 69.23076923076923\n",
      "horse->cat 60.0\n",
      "deer->automobile 60.0\n",
      "cat->ship 46.42857142857143\n",
      "deer->ship 57.69230769230769\n",
      "cat->truck 62.5\n",
      "deer->truck 56.25\n",
      "cat->cat 2.857142857142857\n",
      "horse->ship 40.0\n",
      "automobile->bird 77.77777777777777\n",
      "ship->dog 75.0\n",
      "ship->deer 62.5\n",
      "automobile->airplane 70.0\n",
      "ship->horse 55.55555555555556\n",
      "automobile->frog 68.75\n",
      "dog->automobile 63.63636363636363\n",
      "cat->airplane 60.0\n",
      "bird->automobile 84.61538461538461\n",
      "automobile->horse 60.0\n",
      "truck->bird 44.44444444444444\n",
      "airplane->dog 63.63636363636363\n",
      "truck->deer 71.42857142857143\n",
      "automobile->deer 66.66666666666667\n",
      "truck->dog 37.5\n",
      "automobile->cat 75.0\n"
     ]
    }
   ],
   "source": [
    "dicount = {}\n",
    "dicval = {}\n",
    "for i, s in enumerate(start):\n",
    "    change = classes[s] + '->' + classes[mid[i]]\n",
    "    if not change in dicount:\n",
    "        dicount[change] = 1\n",
    "    else:\n",
    "        dicount[change] += 1\n",
    "    \n",
    "    if result[i] == 1:\n",
    "        if not change in dicval:\n",
    "            dicval[change] = 1\n",
    "        else:\n",
    "            dicval[change] += 1\n",
    "    else:\n",
    "        if not change in dicval:\n",
    "            dicval[change] = 0\n",
    "            \n",
    "for key in dicount:\n",
    "    print(key + ' ' + str(100*dicval[key]/dicount[key]))"
   ]
  },
  {
   "cell_type": "code",
   "execution_count": 63,
   "metadata": {},
   "outputs": [
    {
     "data": {
      "text/plain": [
       "[[234, 34, 194, 21, 48, 11, 19, 21, 139, 72],\n",
       " [40, 452, 9, 8, 6, 2, 16, 5, 61, 295],\n",
       " [71, 13, 124, 61, 100, 103, 114, 42, 24, 16],\n",
       " [15, 17, 57, 35, 55, 137, 60, 51, 28, 40],\n",
       " [19, 10, 170, 61, 34, 70, 192, 109, 26, 16],\n",
       " [16, 11, 127, 126, 30, 171, 61, 94, 13, 43],\n",
       " [25, 48, 122, 99, 181, 60, 200, 33, 28, 59],\n",
       " [25, 21, 61, 30, 141, 148, 20, 257, 10, 77],\n",
       " [287, 84, 49, 10, 16, 4, 25, 9, 252, 108],\n",
       " [65, 284, 9, 16, 7, 8, 12, 49, 46, 372]]"
      ]
     },
     "execution_count": 63,
     "metadata": {},
     "output_type": "execute_result"
    }
   ],
   "source": [
    "count = [[] for i in range(10)]\n",
    "perc = [[] for i in range(10)]\n",
    "\n",
    "for i in range(10):\n",
    "    for j in range(10):\n",
    "        change = classes[i] + '->' + classes[j]\n",
    "        if change in dicount:\n",
    "            count[i].append(dicount[change])\n",
    "            perc[i].append(100 * dicval[change]/dicount[change])\n",
    "        else:\n",
    "            count[i].append(0)\n",
    "            perc[i].append(0)\n",
    "count"
   ]
  },
  {
   "cell_type": "code",
   "execution_count": 64,
   "metadata": {},
   "outputs": [
    {
     "data": {
      "text/plain": [
       "<matplotlib.colorbar.Colorbar at 0x269262e3908>"
      ]
     },
     "execution_count": 64,
     "metadata": {},
     "output_type": "execute_result"
    },
    {
     "data": {
      "image/png": "[encoded data removed]",
      "text/plain": [
       "<Figure size 432x288 with 2 Axes>"
      ]
     },
     "metadata": {
      "needs_background": "light"
     },
     "output_type": "display_data"
    }
   ],
   "source": [
    "plt.xticks(ticks=np.arange(len(classes)),labels=classes,rotation=90)\n",
    "plt.yticks(ticks=np.arange(len(classes)),labels=classes)\n",
    "hm = plt.imshow(count, cmap='Blues',interpolation=\"nearest\")\n",
    "plt.colorbar(hm)"
   ]
  },
  {
   "cell_type": "code",
   "execution_count": 65,
   "metadata": {},
   "outputs": [
    {
     "data": {
      "text/plain": [
       "<matplotlib.colorbar.Colorbar at 0x26964743308>"
      ]
     },
     "execution_count": 65,
     "metadata": {},
     "output_type": "execute_result"
    },
    {
     "data": {
      "image/png": "[encoded data removed]",
      "text/plain": [
       "<Figure size 432x288 with 2 Axes>"
      ]
     },
     "metadata": {
      "needs_background": "light"
     },
     "output_type": "display_data"
    }
   ],
   "source": [
    "plt.xticks(ticks=np.arange(len(classes)),labels=classes,rotation=90)\n",
    "plt.yticks(ticks=np.arange(len(classes)),labels=classes)\n",
    "hm = plt.imshow(perc, cmap='Blues',interpolation=\"nearest\")\n",
    "plt.colorbar(hm)"
   ]
  },
  {
   "cell_type": "markdown",
   "metadata": {},
   "source": [
    "## Linf PGD"
   ]
  },
  {
   "cell_type": "code",
   "execution_count": 66,
   "metadata": {},
   "outputs": [],
   "source": [
    "#PARAMTERS:\n",
    "pgd_params={'eps': 0.09,\n",
    "            'step':0.01,\n",
    "            'norm':'inf',\n",
    "            'n_iterations':45}"
   ]
  },
  {
   "cell_type": "code",
   "execution_count": null,
   "metadata": {},
   "outputs": [],
   "source": [
    "adv_img = pgd.generate_adv((img_src[None, ...]).to(net.device),\n",
    "                                     torch.tensor([label]).to(net.device),\n",
    "                                     **pgd_params)\n",
    "_, pred = torch.max(net.model(adv_img).data, 1)\n",
    "pred = pred[0]\n",
    "adv_img = adv_img[0]\n",
    "\n",
    "imshow(denormalize(adv_img).cpu().detach(),classes[pred])\n",
    "print('real : '+classes[label])\n",
    "print('pred : ' + classes[pred])"
   ]
  },
  {
   "cell_type": "code",
   "execution_count": null,
   "metadata": {},
   "outputs": [],
   "source": [
    "rev_img = pgd.generate_adv((adv_img[None, ...]).to(net.device),\n",
    "                                     torch.tensor([pred]).to(net.device),\n",
    "                                     **pgd_params)\n",
    "_, pred2 = torch.max(net.model(rev_img).data, 1)\n",
    "pred2 = pred2[0]\n",
    "rev_img = rev_img[0]\n",
    "\n",
    "imshow(denormalize(rev_img).cpu().detach(),classes[pred2])\n",
    "print('prev : '+classes[pred])\n",
    "print('pred : ' + classes[pred2])"
   ]
  },
  {
   "cell_type": "code",
   "execution_count": null,
   "metadata": {},
   "outputs": [],
   "source": [
    "start = []\n",
    "mid = []\n",
    "end = []\n",
    "result = []\n",
    "\n",
    "correct = 0\n",
    "n = 0\n",
    "\n",
    "for data in net.testset:\n",
    "    img_src, label = data\n",
    "    if net.identify(img_src) != label:\n",
    "        continue\n",
    "    n += 1\n",
    "    img = img_src / 2 + 0.5     # unnormalize\n",
    "    start.append(label)\n",
    "    \n",
    "    new_img = pgd.generate_adv((img_src[None, ...]).to(net.device),\n",
    "                                     torch.tensor([label]).to(net.device),\n",
    "                                     **pgd_params)\n",
    "    _, pred = torch.max(net.model(new_img).data, 1)\n",
    "    pred = pred[0]\n",
    "    new_img = new_img[0]\n",
    "    mid.append(pred)\n",
    "    \n",
    "    rev_img= pgd.generate_adv((new_img[None, ...]).to(net.device),\n",
    "                                     torch.tensor([pred]).to(net.device),\n",
    "                                     **pgd_params)\n",
    "    _, pred2 = torch.max(net.model(rev_img).data, 1)\n",
    "    pred2 = pred2[0]\n",
    "    rev_img= rev_img[0]\n",
    "    end.append(pred2)\n",
    "    \n",
    "    if pred2 != label:\n",
    "        result.append(0)\n",
    "    else:\n",
    "        result.append(1)\n",
    "        correct += 1\n",
    "print(100*correct/n)"
   ]
  },
  {
   "cell_type": "code",
   "execution_count": null,
   "metadata": {},
   "outputs": [],
   "source": [
    "dicount = {}\n",
    "dicval = {}\n",
    "for i, s in enumerate(start):\n",
    "    change = classes[s] + '->' + classes[mid[i]]\n",
    "    if not change in dicount:\n",
    "        dicount[change] = 1\n",
    "    else:\n",
    "        dicount[change] += 1\n",
    "    \n",
    "    if result[i] == 1:\n",
    "        if not change in dicval:\n",
    "            dicval[change] = 1\n",
    "        else:\n",
    "            dicval[change] += 1\n",
    "    else:\n",
    "        if not change in dicval:\n",
    "            dicval[change] = 0\n",
    "            \n",
    "for key in dicount:\n",
    "    print(key + ' ' + str(100*dicval[key]/dicount[key]))"
   ]
  },
  {
   "cell_type": "code",
   "execution_count": null,
   "metadata": {},
   "outputs": [],
   "source": [
    "count = [[] for i in range(10)]\n",
    "perc = [[] for i in range(10)]\n",
    "\n",
    "for i in range(10):\n",
    "    for j in range(10):\n",
    "        change = classes[i] + '->' + classes[j]\n",
    "        if change in dicount:\n",
    "            count[i].append(dicount[change])\n",
    "            perc[i].append(100 * dicval[change]/dicount[change])\n",
    "        else:\n",
    "            count[i].append(0)\n",
    "            perc[i].append(0)\n",
    "count"
   ]
  },
  {
   "cell_type": "code",
   "execution_count": null,
   "metadata": {},
   "outputs": [],
   "source": [
    "plt.xticks(ticks=np.arange(len(classes)),labels=classes,rotation=90)\n",
    "plt.yticks(ticks=np.arange(len(classes)),labels=classes)\n",
    "hm = plt.imshow(count, cmap='Blues',interpolation=\"nearest\")\n",
    "plt.colorbar(hm)"
   ]
  },
  {
   "cell_type": "code",
   "execution_count": null,
   "metadata": {},
   "outputs": [],
   "source": [
    "plt.xticks(ticks=np.arange(len(classes)),labels=classes,rotation=90)\n",
    "plt.yticks(ticks=np.arange(len(classes)),labels=classes)\n",
    "hm = plt.imshow(perc, cmap='Blues',interpolation=\"nearest\")\n",
    "plt.colorbar(hm)"
   ]
  },
  {
   "cell_type": "code",
   "execution_count": null,
   "metadata": {},
   "outputs": [],
   "source": []
  }
 ],
 "metadata": {
  "kernelspec": {
   "display_name": "Python 3",
   "language": "python",
   "name": "python3"
  },
  "language_info": {
   "codemirror_mode": {
    "name": "ipython",
    "version": 3
   },
   "file_extension": ".py",
   "mimetype": "text/x-python",
   "name": "python",
   "nbconvert_exporter": "python",
   "pygments_lexer": "ipython3",
   "version": "3.7.6"
  }
 },
 "nbformat": 4,
 "nbformat_minor": 4
}
