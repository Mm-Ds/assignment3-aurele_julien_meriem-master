{
 "cells": [
  {
   "cell_type": "code",
   "execution_count": 1,
   "metadata": {},
   "outputs": [],
   "source": [
    "import numpy as np\n",
    "import matplotlib.pyplot as plt\n",
    "from model import Model\n",
    "import torch\n",
    "from Defences import Defence\n",
    "from attacks import *\n",
    "%matplotlib inline"
   ]
  },
  {
   "cell_type": "code",
   "execution_count": 2,
   "metadata": {},
   "outputs": [],
   "source": [
    "def imshow(img, title):\n",
    "    npimg = img.numpy()\n",
    "    fig = plt.figure(figsize = (5, 15))\n",
    "    plt.imshow(np.transpose(npimg,(1,2,0)))\n",
    "    plt.title(title)\n",
    "    plt.show()"
   ]
  },
  {
   "cell_type": "code",
   "execution_count": 3,
   "metadata": {},
   "outputs": [
    {
     "name": "stdout",
     "output_type": "stream",
     "text": [
      "cuda:0\n",
      "Files already downloaded and verified\n"
     ]
    }
   ],
   "source": [
    "net = Model()\n",
    "net.loadModel()\n",
    "net.loadData(bs=1)\n",
    "#net.testModel()"
   ]
  },
  {
   "cell_type": "code",
   "execution_count": 4,
   "metadata": {},
   "outputs": [
    {
     "data": {
      "text/plain": [
       "['airplane',\n",
       " 'automobile',\n",
       " 'bird',\n",
       " 'cat',\n",
       " 'deer',\n",
       " 'dog',\n",
       " 'frog',\n",
       " 'horse',\n",
       " 'ship',\n",
       " 'truck']"
      ]
     },
     "execution_count": 4,
     "metadata": {},
     "output_type": "execute_result"
    }
   ],
   "source": [
    "classes = net.dataset.classes\n",
    "classes"
   ]
  },
  {
   "cell_type": "code",
   "execution_count": 5,
   "metadata": {},
   "outputs": [
    {
     "name": "stdout",
     "output_type": "stream",
     "text": [
      "True Label :7 frog\n"
     ]
    },
    {
     "data": {
      "image/png": "[encoded data removed]",
      "text/plain": [
       "<Figure size 432x288 with 1 Axes>"
      ]
     },
     "metadata": {
      "needs_background": "light"
     },
     "output_type": "display_data"
    }
   ],
   "source": [
    "import numpy as np\n",
    "index = 7\n",
    "img_src = net.testset[index][0]\n",
    "img = net.testset[index][0] / 2 + 0.5     # unnormalize\n",
    "label = net.testset[index][1]\n",
    "npimg = img.numpy()\n",
    "print('True Label :' + str(index) + ' ' + classes[label])\n",
    "plt.imshow(np.transpose(npimg, (1, 2, 0)))\n",
    "plt.show()"
   ]
  },
  {
   "cell_type": "code",
   "execution_count": 6,
   "metadata": {},
   "outputs": [],
   "source": [
    "defence = Defence(net)"
   ]
  },
  {
   "cell_type": "markdown",
   "metadata": {},
   "source": [
    "## Base model"
   ]
  },
  {
   "cell_type": "code",
   "execution_count": 7,
   "metadata": {},
   "outputs": [
    {
     "name": "stdout",
     "output_type": "stream",
     "text": [
      "Accuracy of the network on the 10000 test images: 76 %\n"
     ]
    }
   ],
   "source": [
    "net.setF(None)\n",
    "net.testModel()"
   ]
  },
  {
   "cell_type": "code",
   "execution_count": 12,
   "metadata": {},
   "outputs": [
    {
     "name": "stdout",
     "output_type": "stream",
     "text": [
      "Parameters: {'eps': 0.05}\tTest Accuracy = 504 / 10000 = 0.0504\n"
     ]
    }
   ],
   "source": [
    "fgsm_params={'eps':0.05}\n",
    "fgsm = FGSM_Attack(net)\n",
    "accuracy = fgsm.evaluate_model_under_attack(**fgsm_params)"
   ]
  },
  {
   "cell_type": "code",
   "execution_count": 13,
   "metadata": {},
   "outputs": [
    {
     "name": "stdout",
     "output_type": "stream",
     "text": [
      "Parameters: {'eps': 0.8, 'step': 0.01, 'norm': 2, 'n_iterations': 25}\tTest Accuracy = 2131 / 10000 = 0.2131\n"
     ]
    }
   ],
   "source": [
    "pgd_params={'eps': 0.8,\n",
    "            'step':0.01,\n",
    "            'norm':2,\n",
    "            'n_iterations':25}\n",
    "pgd = PGD_Attack(net)\n",
    "accuracy = pgd.evaluate_model_under_attack(**pgd_params)"
   ]
  },
  {
   "cell_type": "code",
   "execution_count": 14,
   "metadata": {},
   "outputs": [
    {
     "name": "stdout",
     "output_type": "stream",
     "text": [
      "Parameters: {'eps': 0.09, 'step': 0.01, 'norm': 'inf', 'n_iterations': 45}\tTest Accuracy = 1 / 10000 = 0.0001\n"
     ]
    }
   ],
   "source": [
    "pgd_params={'eps': 0.09,\n",
    "            'step':0.01,\n",
    "            'norm':'inf',\n",
    "            'n_iterations':45}\n",
    "accuracy = pgd.evaluate_model_under_attack(**pgd_params)"
   ]
  },
  {
   "cell_type": "code",
   "execution_count": 15,
   "metadata": {},
   "outputs": [
    {
     "ename": "KeyboardInterrupt",
     "evalue": "",
     "output_type": "error",
     "traceback": [
      "\u001b[1;31m---------------------------------------------------------------------------\u001b[0m",
      "\u001b[1;31mKeyboardInterrupt\u001b[0m                         Traceback (most recent call last)",
      "\u001b[1;32m<ipython-input-15-0401d54a6193>\u001b[0m in \u001b[0;36m<module>\u001b[1;34m\u001b[0m\n\u001b[0;32m      3\u001b[0m            \u001b[1;34m'lr'\u001b[0m\u001b[1;33m:\u001b[0m\u001b[1;36m0.001\u001b[0m\u001b[1;33m,\u001b[0m\u001b[1;33m\u001b[0m\u001b[1;33m\u001b[0m\u001b[0m\n\u001b[0;32m      4\u001b[0m            'verbose':False }\n\u001b[1;32m----> 5\u001b[1;33m \u001b[0maccuracy\u001b[0m \u001b[1;33m=\u001b[0m \u001b[0mcw\u001b[0m\u001b[1;33m.\u001b[0m\u001b[0mevaluate_model_under_attack\u001b[0m\u001b[1;33m(\u001b[0m\u001b[1;33m**\u001b[0m\u001b[0mcw_params\u001b[0m\u001b[1;33m)\u001b[0m\u001b[1;33m\u001b[0m\u001b[1;33m\u001b[0m\u001b[0m\n\u001b[0m",
      "\u001b[1;32m~\\Desktop\\Dauphine IASD\\Projet Data Science\\Robust Neural Network\\attacks.py\u001b[0m in \u001b[0;36mevaluate_model_under_attack\u001b[1;34m(self, **kwargs)\u001b[0m\n\u001b[0;32m     48\u001b[0m \u001b[1;33m\u001b[0m\u001b[0m\n\u001b[0;32m     49\u001b[0m           \u001b[0my\u001b[0m \u001b[1;33m=\u001b[0m \u001b[0mtorch\u001b[0m\u001b[1;33m.\u001b[0m\u001b[0mtensor\u001b[0m\u001b[1;33m(\u001b[0m\u001b[1;33m[\u001b[0m\u001b[0minit_pred\u001b[0m\u001b[1;33m.\u001b[0m\u001b[0mitem\u001b[0m\u001b[1;33m(\u001b[0m\u001b[1;33m)\u001b[0m\u001b[1;33m]\u001b[0m\u001b[1;33m)\u001b[0m\u001b[1;33m.\u001b[0m\u001b[0mto\u001b[0m\u001b[1;33m(\u001b[0m\u001b[0mself\u001b[0m\u001b[1;33m.\u001b[0m\u001b[0mmodel\u001b[0m\u001b[1;33m.\u001b[0m\u001b[0mdevice\u001b[0m\u001b[1;33m)\u001b[0m \u001b[1;31m#for the moment only on fixed target class\u001b[0m\u001b[1;33m\u001b[0m\u001b[1;33m\u001b[0m\u001b[0m\n\u001b[1;32m---> 50\u001b[1;33m           \u001b[0mx_adv\u001b[0m\u001b[1;33m=\u001b[0m \u001b[0mself\u001b[0m\u001b[1;33m.\u001b[0m\u001b[0mgenerate_adv\u001b[0m\u001b[1;33m(\u001b[0m\u001b[0mdata\u001b[0m\u001b[1;33m,\u001b[0m\u001b[0my\u001b[0m\u001b[1;33m,\u001b[0m \u001b[1;33m**\u001b[0m\u001b[0mkwargs\u001b[0m\u001b[1;33m)\u001b[0m\u001b[1;33m\u001b[0m\u001b[1;33m\u001b[0m\u001b[0m\n\u001b[0m\u001b[0;32m     51\u001b[0m           \u001b[0mpred\u001b[0m \u001b[1;33m=\u001b[0m \u001b[0mself\u001b[0m\u001b[1;33m.\u001b[0m\u001b[0mmodel\u001b[0m\u001b[1;33m.\u001b[0m\u001b[0mmodel\u001b[0m\u001b[1;33m(\u001b[0m\u001b[0mx_adv\u001b[0m\u001b[1;33m)\u001b[0m\u001b[1;33m.\u001b[0m\u001b[0mmax\u001b[0m\u001b[1;33m(\u001b[0m\u001b[1;36m1\u001b[0m\u001b[1;33m,\u001b[0m \u001b[0mkeepdim\u001b[0m\u001b[1;33m=\u001b[0m\u001b[1;32mTrue\u001b[0m\u001b[1;33m)\u001b[0m\u001b[1;33m[\u001b[0m\u001b[1;36m1\u001b[0m\u001b[1;33m]\u001b[0m \u001b[1;31m# get the index of the max log-probability\u001b[0m\u001b[1;33m\u001b[0m\u001b[1;33m\u001b[0m\u001b[0m\n\u001b[0;32m     52\u001b[0m           \u001b[1;32mif\u001b[0m \u001b[0mpred\u001b[0m\u001b[1;33m.\u001b[0m\u001b[0mitem\u001b[0m\u001b[1;33m(\u001b[0m\u001b[1;33m)\u001b[0m \u001b[1;33m==\u001b[0m \u001b[0mlabel\u001b[0m\u001b[1;33m.\u001b[0m\u001b[0mitem\u001b[0m\u001b[1;33m(\u001b[0m\u001b[1;33m)\u001b[0m\u001b[1;33m:\u001b[0m\u001b[1;33m\u001b[0m\u001b[1;33m\u001b[0m\u001b[0m\n",
      "\u001b[1;32m~\\Desktop\\Dauphine IASD\\Projet Data Science\\Robust Neural Network\\attacks.py\u001b[0m in \u001b[0;36mgenerate_adv\u001b[1;34m(self, x, y, targeted, **kwargs)\u001b[0m\n\u001b[0;32m    299\u001b[0m                         \u001b[0mflag\u001b[0m\u001b[1;33m=\u001b[0m\u001b[1;32mFalse\u001b[0m\u001b[1;33m\u001b[0m\u001b[1;33m\u001b[0m\u001b[0m\n\u001b[0;32m    300\u001b[0m                         \u001b[1;32mfor\u001b[0m \u001b[0mi\u001b[0m \u001b[1;32min\u001b[0m \u001b[0mrange\u001b[0m\u001b[1;33m(\u001b[0m\u001b[1;36m50\u001b[0m\u001b[1;33m)\u001b[0m\u001b[1;33m:\u001b[0m\u001b[1;33m\u001b[0m\u001b[1;33m\u001b[0m\u001b[0m\n\u001b[1;32m--> 301\u001b[1;33m                             \u001b[0moutput\u001b[0m\u001b[1;33m=\u001b[0m \u001b[0mself\u001b[0m\u001b[1;33m.\u001b[0m\u001b[0mmodel\u001b[0m\u001b[1;33m.\u001b[0m\u001b[0mmodel\u001b[0m\u001b[1;33m(\u001b[0m\u001b[0mimg_new\u001b[0m\u001b[1;33m)\u001b[0m\u001b[1;33m\u001b[0m\u001b[1;33m\u001b[0m\u001b[0m\n\u001b[0m\u001b[0;32m    302\u001b[0m                             \u001b[0mpred_result\u001b[0m\u001b[1;33m=\u001b[0m\u001b[0moutput\u001b[0m\u001b[1;33m.\u001b[0m\u001b[0margmax\u001b[0m\u001b[1;33m(\u001b[0m\u001b[1;36m1\u001b[0m\u001b[1;33m,\u001b[0m \u001b[0mkeepdim\u001b[0m\u001b[1;33m=\u001b[0m\u001b[1;32mTrue\u001b[0m\u001b[1;33m)\u001b[0m\u001b[1;33m.\u001b[0m\u001b[0mitem\u001b[0m\u001b[1;33m(\u001b[0m\u001b[1;33m)\u001b[0m\u001b[1;33m\u001b[0m\u001b[1;33m\u001b[0m\u001b[0m\n\u001b[0;32m    303\u001b[0m                             \u001b[1;32mif\u001b[0m\u001b[1;33m(\u001b[0m\u001b[0mpred_result\u001b[0m\u001b[1;33m==\u001b[0m\u001b[0my\u001b[0m\u001b[1;33m)\u001b[0m\u001b[1;33m:\u001b[0m\u001b[1;33m\u001b[0m\u001b[1;33m\u001b[0m\u001b[0m\n",
      "\u001b[1;32mc:\\users\\juju\\appdata\\local\\programs\\python\\python37\\lib\\site-packages\\torch\\nn\\modules\\module.py\u001b[0m in \u001b[0;36m__call__\u001b[1;34m(self, *input, **kwargs)\u001b[0m\n\u001b[0;32m    539\u001b[0m             \u001b[0mresult\u001b[0m \u001b[1;33m=\u001b[0m \u001b[0mself\u001b[0m\u001b[1;33m.\u001b[0m\u001b[0m_slow_forward\u001b[0m\u001b[1;33m(\u001b[0m\u001b[1;33m*\u001b[0m\u001b[0minput\u001b[0m\u001b[1;33m,\u001b[0m \u001b[1;33m**\u001b[0m\u001b[0mkwargs\u001b[0m\u001b[1;33m)\u001b[0m\u001b[1;33m\u001b[0m\u001b[1;33m\u001b[0m\u001b[0m\n\u001b[0;32m    540\u001b[0m         \u001b[1;32melse\u001b[0m\u001b[1;33m:\u001b[0m\u001b[1;33m\u001b[0m\u001b[1;33m\u001b[0m\u001b[0m\n\u001b[1;32m--> 541\u001b[1;33m             \u001b[0mresult\u001b[0m \u001b[1;33m=\u001b[0m \u001b[0mself\u001b[0m\u001b[1;33m.\u001b[0m\u001b[0mforward\u001b[0m\u001b[1;33m(\u001b[0m\u001b[1;33m*\u001b[0m\u001b[0minput\u001b[0m\u001b[1;33m,\u001b[0m \u001b[1;33m**\u001b[0m\u001b[0mkwargs\u001b[0m\u001b[1;33m)\u001b[0m\u001b[1;33m\u001b[0m\u001b[1;33m\u001b[0m\u001b[0m\n\u001b[0m\u001b[0;32m    542\u001b[0m         \u001b[1;32mfor\u001b[0m \u001b[0mhook\u001b[0m \u001b[1;32min\u001b[0m \u001b[0mself\u001b[0m\u001b[1;33m.\u001b[0m\u001b[0m_forward_hooks\u001b[0m\u001b[1;33m.\u001b[0m\u001b[0mvalues\u001b[0m\u001b[1;33m(\u001b[0m\u001b[1;33m)\u001b[0m\u001b[1;33m:\u001b[0m\u001b[1;33m\u001b[0m\u001b[1;33m\u001b[0m\u001b[0m\n\u001b[0;32m    543\u001b[0m             \u001b[0mhook_result\u001b[0m \u001b[1;33m=\u001b[0m \u001b[0mhook\u001b[0m\u001b[1;33m(\u001b[0m\u001b[0mself\u001b[0m\u001b[1;33m,\u001b[0m \u001b[0minput\u001b[0m\u001b[1;33m,\u001b[0m \u001b[0mresult\u001b[0m\u001b[1;33m)\u001b[0m\u001b[1;33m\u001b[0m\u001b[1;33m\u001b[0m\u001b[0m\n",
      "\u001b[1;32m~\\Desktop\\Dauphine IASD\\Projet Data Science\\Robust Neural Network\\model.py\u001b[0m in \u001b[0;36mforward\u001b[1;34m(self, x)\u001b[0m\n\u001b[0;32m    173\u001b[0m         \u001b[0mx\u001b[0m \u001b[1;33m=\u001b[0m \u001b[0mself\u001b[0m\u001b[1;33m.\u001b[0m\u001b[0mpool\u001b[0m\u001b[1;33m(\u001b[0m\u001b[0mF\u001b[0m\u001b[1;33m.\u001b[0m\u001b[0mrelu\u001b[0m\u001b[1;33m(\u001b[0m\u001b[0mself\u001b[0m\u001b[1;33m.\u001b[0m\u001b[0mconv3\u001b[0m\u001b[1;33m(\u001b[0m\u001b[0mx\u001b[0m\u001b[1;33m)\u001b[0m\u001b[1;33m)\u001b[0m\u001b[1;33m)\u001b[0m\u001b[1;33m\u001b[0m\u001b[1;33m\u001b[0m\u001b[0m\n\u001b[0;32m    174\u001b[0m         \u001b[0mx\u001b[0m \u001b[1;33m=\u001b[0m \u001b[0mself\u001b[0m\u001b[1;33m.\u001b[0m\u001b[0mapool\u001b[0m\u001b[1;33m(\u001b[0m\u001b[0mx\u001b[0m\u001b[1;33m)\u001b[0m\u001b[1;33m\u001b[0m\u001b[1;33m\u001b[0m\u001b[0m\n\u001b[1;32m--> 175\u001b[1;33m         \u001b[0mx\u001b[0m \u001b[1;33m=\u001b[0m \u001b[0mx\u001b[0m\u001b[1;33m.\u001b[0m\u001b[0mview\u001b[0m\u001b[1;33m(\u001b[0m\u001b[1;33m-\u001b[0m\u001b[1;36m1\u001b[0m\u001b[1;33m,\u001b[0m \u001b[1;36m128\u001b[0m\u001b[1;33m*\u001b[0m\u001b[1;36m2\u001b[0m\u001b[1;33m*\u001b[0m\u001b[1;36m2\u001b[0m\u001b[1;33m)\u001b[0m\u001b[1;33m\u001b[0m\u001b[1;33m\u001b[0m\u001b[0m\n\u001b[0m\u001b[0;32m    176\u001b[0m         \u001b[0mx\u001b[0m \u001b[1;33m=\u001b[0m \u001b[0mF\u001b[0m\u001b[1;33m.\u001b[0m\u001b[0mrelu\u001b[0m\u001b[1;33m(\u001b[0m\u001b[0mself\u001b[0m\u001b[1;33m.\u001b[0m\u001b[0mfc1\u001b[0m\u001b[1;33m(\u001b[0m\u001b[0mx\u001b[0m\u001b[1;33m)\u001b[0m\u001b[1;33m)\u001b[0m\u001b[1;33m\u001b[0m\u001b[1;33m\u001b[0m\u001b[0m\n\u001b[0;32m    177\u001b[0m         \u001b[0mx\u001b[0m\u001b[1;33m=\u001b[0m\u001b[0mself\u001b[0m\u001b[1;33m.\u001b[0m\u001b[0mfc2\u001b[0m\u001b[1;33m(\u001b[0m\u001b[0mx\u001b[0m\u001b[1;33m)\u001b[0m\u001b[1;33m\u001b[0m\u001b[1;33m\u001b[0m\u001b[0m\n",
      "\u001b[1;31mKeyboardInterrupt\u001b[0m: "
     ]
    }
   ],
   "source": [
    "cw = CW_Attack(net)\n",
    "cw_params={'n_iterations':100,\n",
    "           'lr':0.001,\n",
    "           'verbose':False }\n",
    "accuracy = cw.evaluate_model_under_attack(**cw_params)"
   ]
  },
  {
   "cell_type": "markdown",
   "metadata": {},
   "source": [
    "## Gaussian Noise"
   ]
  },
  {
   "cell_type": "code",
   "execution_count": 11,
   "metadata": {},
   "outputs": [
    {
     "data": {
      "text/plain": [
       "21.83"
      ]
     },
     "execution_count": 11,
     "metadata": {},
     "output_type": "execute_result"
    }
   ],
   "source": [
    "defence.testModelNoise(net.testset,nitteration=100)"
   ]
  },
  {
   "cell_type": "markdown",
   "metadata": {},
   "source": [
    "## Laplacian Noise"
   ]
  },
  {
   "cell_type": "code",
   "execution_count": 7,
   "metadata": {},
   "outputs": [
    {
     "data": {
      "text/plain": [
       "18.9"
      ]
     },
     "execution_count": 7,
     "metadata": {},
     "output_type": "execute_result"
    }
   ],
   "source": [
    "defence.testModelNoise(net.testset,nitteration=100,ntype='Laplace')"
   ]
  },
  {
   "cell_type": "markdown",
   "metadata": {},
   "source": [
    "## Uniform Noise"
   ]
  },
  {
   "cell_type": "code",
   "execution_count": 8,
   "metadata": {},
   "outputs": [
    {
     "data": {
      "text/plain": [
       "19.76"
      ]
     },
     "execution_count": 8,
     "metadata": {},
     "output_type": "execute_result"
    }
   ],
   "source": [
    "defence.testModelNoise(net.testset,nitteration=100,ntype='Uniform')"
   ]
  },
  {
   "cell_type": "markdown",
   "metadata": {},
   "source": [
    "## Crop and Resize"
   ]
  },
  {
   "cell_type": "code",
   "execution_count": 7,
   "metadata": {},
   "outputs": [],
   "source": [
    "net.setF(defence.cropR)"
   ]
  },
  {
   "cell_type": "code",
   "execution_count": 8,
   "metadata": {},
   "outputs": [
    {
     "name": "stdout",
     "output_type": "stream",
     "text": [
      "Accuracy of the network on the 10000 test images: 68 %\n"
     ]
    }
   ],
   "source": [
    "net.testModel()"
   ]
  },
  {
   "cell_type": "code",
   "execution_count": 8,
   "metadata": {},
   "outputs": [
    {
     "name": "stdout",
     "output_type": "stream",
     "text": [
      "Parameters: {'eps': 0.05}\tTest Accuracy = 185 / 10000 = 0.0185\n"
     ]
    }
   ],
   "source": [
    "fgsm_params={'eps':0.05}\n",
    "fgsm = FGSM_Attack(net)\n",
    "accuracy = fgsm.evaluate_model_under_attack(**fgsm_params)"
   ]
  },
  {
   "cell_type": "code",
   "execution_count": 9,
   "metadata": {},
   "outputs": [
    {
     "name": "stdout",
     "output_type": "stream",
     "text": [
      "Parameters: {'eps': 0.8, 'step': 0.01, 'norm': 2, 'n_iterations': 25}\tTest Accuracy = 1022 / 10000 = 0.1022\n"
     ]
    }
   ],
   "source": [
    "pgd_params={'eps': 0.8,\n",
    "            'step':0.01,\n",
    "            'norm':2,\n",
    "            'n_iterations':25}\n",
    "pgd = PGD_Attack(net)\n",
    "accuracy = pgd.evaluate_model_under_attack(**pgd_params)"
   ]
  },
  {
   "cell_type": "code",
   "execution_count": 10,
   "metadata": {},
   "outputs": [
    {
     "name": "stdout",
     "output_type": "stream",
     "text": [
      "Parameters: {'eps': 0.09, 'step': 0.01, 'norm': 'inf', 'n_iterations': 45}\tTest Accuracy = 0 / 10000 = 0.0\n"
     ]
    }
   ],
   "source": [
    "pgd_params={'eps': 0.09,\n",
    "            'step':0.01,\n",
    "            'norm':'inf',\n",
    "            'n_iterations':45}\n",
    "accuracy = pgd.evaluate_model_under_attack(**pgd_params)"
   ]
  },
  {
   "cell_type": "markdown",
   "metadata": {},
   "source": [
    "## Crop and fill"
   ]
  },
  {
   "cell_type": "code",
   "execution_count": 11,
   "metadata": {},
   "outputs": [
    {
     "name": "stdout",
     "output_type": "stream",
     "text": [
      "True Label :7 frog\n"
     ]
    },
    {
     "data": {
      "image/png": "[encoded data removed]",
      "text/plain": [
       "<Figure size 432x288 with 1 Axes>"
      ]
     },
     "metadata": {
      "needs_background": "light"
     },
     "output_type": "display_data"
    }
   ],
   "source": [
    "#Example doesn t work now\n",
    "import numpy as np\n",
    "index = 7\n",
    "img_src = t[index][0]\n",
    "img = t[index][0] / 2 + 0.5     # unnormalize\n",
    "label = t[index][1]\n",
    "npimg = img.numpy()\n",
    "print('True Label :' + str(index) + ' ' + classes[label])\n",
    "plt.imshow(np.transpose(npimg, (1, 2, 0)))\n",
    "plt.show()"
   ]
  },
  {
   "cell_type": "code",
   "execution_count": 11,
   "metadata": {},
   "outputs": [],
   "source": [
    "net.setF(defence.cropF)"
   ]
  },
  {
   "cell_type": "code",
   "execution_count": 10,
   "metadata": {},
   "outputs": [
    {
     "name": "stdout",
     "output_type": "stream",
     "text": [
      "Accuracy of the network on the 10000 test images: 55 %\n"
     ]
    }
   ],
   "source": [
    "net.testModel()"
   ]
  },
  {
   "cell_type": "code",
   "execution_count": 12,
   "metadata": {},
   "outputs": [
    {
     "name": "stdout",
     "output_type": "stream",
     "text": [
      "Parameters: {'eps': 0.05}\tTest Accuracy = 215 / 10000 = 0.0215\n"
     ]
    }
   ],
   "source": [
    "fgsm_params={'eps':0.05}\n",
    "fgsm = FGSM_Attack(net)\n",
    "accuracy = fgsm.evaluate_model_under_attack(**fgsm_params)"
   ]
  },
  {
   "cell_type": "code",
   "execution_count": 13,
   "metadata": {},
   "outputs": [
    {
     "name": "stdout",
     "output_type": "stream",
     "text": [
      "Parameters: {'eps': 0.8, 'step': 0.01, 'norm': 2, 'n_iterations': 25}\tTest Accuracy = 1237 / 10000 = 0.1237\n"
     ]
    }
   ],
   "source": [
    "pgd_params={'eps': 0.8,\n",
    "            'step':0.01,\n",
    "            'norm':2,\n",
    "            'n_iterations':25}\n",
    "pgd = PGD_Attack(net)\n",
    "accuracy = pgd.evaluate_model_under_attack(**pgd_params)"
   ]
  },
  {
   "cell_type": "code",
   "execution_count": 14,
   "metadata": {},
   "outputs": [
    {
     "name": "stdout",
     "output_type": "stream",
     "text": [
      "Parameters: {'eps': 0.09, 'step': 0.01, 'norm': 'inf', 'n_iterations': 45}\tTest Accuracy = 3 / 10000 = 0.0003\n"
     ]
    }
   ],
   "source": [
    "pgd_params={'eps': 0.09,\n",
    "            'step':0.01,\n",
    "            'norm':'inf',\n",
    "            'n_iterations':45}\n",
    "accuracy = pgd.evaluate_model_under_attack(**pgd_params)"
   ]
  },
  {
   "cell_type": "code",
   "execution_count": 15,
   "metadata": {},
   "outputs": [],
   "source": [
    "f = lambda batch : defence.cropF(batch,minval=-1,maxval=-0.5)\n",
    "net.setF(f)"
   ]
  },
  {
   "cell_type": "code",
   "execution_count": 12,
   "metadata": {},
   "outputs": [
    {
     "name": "stdout",
     "output_type": "stream",
     "text": [
      "Accuracy of the network on the 10000 test images: 56 %\n"
     ]
    }
   ],
   "source": [
    "net.testModel()"
   ]
  },
  {
   "cell_type": "code",
   "execution_count": 16,
   "metadata": {},
   "outputs": [
    {
     "name": "stdout",
     "output_type": "stream",
     "text": [
      "Parameters: {'eps': 0.05}\tTest Accuracy = 212 / 10000 = 0.0212\n"
     ]
    }
   ],
   "source": [
    "fgsm_params={'eps':0.05}\n",
    "fgsm = FGSM_Attack(net)\n",
    "accuracy = fgsm.evaluate_model_under_attack(**fgsm_params)"
   ]
  },
  {
   "cell_type": "code",
   "execution_count": 17,
   "metadata": {},
   "outputs": [
    {
     "name": "stdout",
     "output_type": "stream",
     "text": [
      "Parameters: {'eps': 0.8, 'step': 0.01, 'norm': 2, 'n_iterations': 25}\tTest Accuracy = 1230 / 10000 = 0.123\n"
     ]
    }
   ],
   "source": [
    "pgd_params={'eps': 0.8,\n",
    "            'step':0.01,\n",
    "            'norm':2,\n",
    "            'n_iterations':25}\n",
    "pgd = PGD_Attack(net)\n",
    "accuracy = pgd.evaluate_model_under_attack(**pgd_params)"
   ]
  },
  {
   "cell_type": "code",
   "execution_count": 18,
   "metadata": {},
   "outputs": [
    {
     "name": "stdout",
     "output_type": "stream",
     "text": [
      "Parameters: {'eps': 0.09, 'step': 0.01, 'norm': 'inf', 'n_iterations': 45}\tTest Accuracy = 1 / 10000 = 0.0001\n"
     ]
    }
   ],
   "source": [
    "pgd_params={'eps': 0.09,\n",
    "            'step':0.01,\n",
    "            'norm':'inf',\n",
    "            'n_iterations':45}\n",
    "accuracy = pgd.evaluate_model_under_attack(**pgd_params)"
   ]
  },
  {
   "cell_type": "code",
   "execution_count": 19,
   "metadata": {},
   "outputs": [],
   "source": [
    "f = lambda batch : defence.cropF(batch,minval=-0.5,maxval=0)\n",
    "net.setF(f)"
   ]
  },
  {
   "cell_type": "code",
   "execution_count": 13,
   "metadata": {},
   "outputs": [
    {
     "name": "stdout",
     "output_type": "stream",
     "text": [
      "Accuracy of the network on the 10000 test images: 56 %\n"
     ]
    }
   ],
   "source": [
    "net.testModel()"
   ]
  },
  {
   "cell_type": "code",
   "execution_count": 20,
   "metadata": {},
   "outputs": [
    {
     "name": "stdout",
     "output_type": "stream",
     "text": [
      "Parameters: {'eps': 0.05}\tTest Accuracy = 212 / 10000 = 0.0212\n"
     ]
    }
   ],
   "source": [
    "fgsm_params={'eps':0.05}\n",
    "fgsm = FGSM_Attack(net)\n",
    "accuracy = fgsm.evaluate_model_under_attack(**fgsm_params)"
   ]
  },
  {
   "cell_type": "code",
   "execution_count": 21,
   "metadata": {},
   "outputs": [
    {
     "name": "stdout",
     "output_type": "stream",
     "text": [
      "Parameters: {'eps': 0.8, 'step': 0.01, 'norm': 2, 'n_iterations': 25}\tTest Accuracy = 1274 / 10000 = 0.1274\n"
     ]
    }
   ],
   "source": [
    "pgd_params={'eps': 0.8,\n",
    "            'step':0.01,\n",
    "            'norm':2,\n",
    "            'n_iterations':25}\n",
    "pgd = PGD_Attack(net)\n",
    "accuracy = pgd.evaluate_model_under_attack(**pgd_params)"
   ]
  },
  {
   "cell_type": "code",
   "execution_count": 22,
   "metadata": {},
   "outputs": [
    {
     "name": "stdout",
     "output_type": "stream",
     "text": [
      "Parameters: {'eps': 0.09, 'step': 0.01, 'norm': 'inf', 'n_iterations': 45}\tTest Accuracy = 2 / 10000 = 0.0002\n"
     ]
    }
   ],
   "source": [
    "pgd_params={'eps': 0.09,\n",
    "            'step':0.01,\n",
    "            'norm':'inf',\n",
    "            'n_iterations':45}\n",
    "accuracy = pgd.evaluate_model_under_attack(**pgd_params)"
   ]
  },
  {
   "cell_type": "code",
   "execution_count": 23,
   "metadata": {},
   "outputs": [],
   "source": [
    "f = lambda batch : defence.cropF(batch,minval=0,maxval=0.5)\n",
    "net.setF(f)"
   ]
  },
  {
   "cell_type": "code",
   "execution_count": 14,
   "metadata": {},
   "outputs": [
    {
     "name": "stdout",
     "output_type": "stream",
     "text": [
      "Accuracy of the network on the 10000 test images: 55 %\n"
     ]
    }
   ],
   "source": [
    "net.testModel()"
   ]
  },
  {
   "cell_type": "code",
   "execution_count": 24,
   "metadata": {},
   "outputs": [
    {
     "name": "stdout",
     "output_type": "stream",
     "text": [
      "Parameters: {'eps': 0.05}\tTest Accuracy = 212 / 10000 = 0.0212\n"
     ]
    }
   ],
   "source": [
    "fgsm_params={'eps':0.05}\n",
    "fgsm = FGSM_Attack(net)\n",
    "accuracy = fgsm.evaluate_model_under_attack(**fgsm_params)"
   ]
  },
  {
   "cell_type": "code",
   "execution_count": 25,
   "metadata": {},
   "outputs": [
    {
     "name": "stdout",
     "output_type": "stream",
     "text": [
      "Parameters: {'eps': 0.8, 'step': 0.01, 'norm': 2, 'n_iterations': 25}\tTest Accuracy = 1240 / 10000 = 0.124\n"
     ]
    }
   ],
   "source": [
    "pgd_params={'eps': 0.8,\n",
    "            'step':0.01,\n",
    "            'norm':2,\n",
    "            'n_iterations':25}\n",
    "pgd = PGD_Attack(net)\n",
    "accuracy = pgd.evaluate_model_under_attack(**pgd_params)"
   ]
  },
  {
   "cell_type": "code",
   "execution_count": 26,
   "metadata": {},
   "outputs": [
    {
     "name": "stdout",
     "output_type": "stream",
     "text": [
      "Parameters: {'eps': 0.09, 'step': 0.01, 'norm': 'inf', 'n_iterations': 45}\tTest Accuracy = 1 / 10000 = 0.0001\n"
     ]
    }
   ],
   "source": [
    "pgd_params={'eps': 0.09,\n",
    "            'step':0.01,\n",
    "            'norm':'inf',\n",
    "            'n_iterations':45}\n",
    "accuracy = pgd.evaluate_model_under_attack(**pgd_params)"
   ]
  },
  {
   "cell_type": "code",
   "execution_count": 27,
   "metadata": {},
   "outputs": [],
   "source": [
    "f = lambda batch : defence.cropF(batch,minval=0.5,maxval=1)\n",
    "net.setF(f)"
   ]
  },
  {
   "cell_type": "code",
   "execution_count": 15,
   "metadata": {},
   "outputs": [
    {
     "name": "stdout",
     "output_type": "stream",
     "text": [
      "Accuracy of the network on the 10000 test images: 56 %\n"
     ]
    }
   ],
   "source": [
    "net.testModel()"
   ]
  },
  {
   "cell_type": "code",
   "execution_count": 28,
   "metadata": {},
   "outputs": [
    {
     "name": "stdout",
     "output_type": "stream",
     "text": [
      "Parameters: {'eps': 0.05}\tTest Accuracy = 204 / 10000 = 0.0204\n"
     ]
    }
   ],
   "source": [
    "fgsm_params={'eps':0.05}\n",
    "fgsm = FGSM_Attack(net)\n",
    "accuracy = fgsm.evaluate_model_under_attack(**fgsm_params)"
   ]
  },
  {
   "cell_type": "code",
   "execution_count": 29,
   "metadata": {},
   "outputs": [
    {
     "name": "stdout",
     "output_type": "stream",
     "text": [
      "Parameters: {'eps': 0.8, 'step': 0.01, 'norm': 2, 'n_iterations': 25}\tTest Accuracy = 1249 / 10000 = 0.1249\n"
     ]
    }
   ],
   "source": [
    "pgd_params={'eps': 0.8,\n",
    "            'step':0.01,\n",
    "            'norm':2,\n",
    "            'n_iterations':25}\n",
    "pgd = PGD_Attack(net)\n",
    "accuracy = pgd.evaluate_model_under_attack(**pgd_params)"
   ]
  },
  {
   "cell_type": "code",
   "execution_count": 30,
   "metadata": {},
   "outputs": [
    {
     "name": "stdout",
     "output_type": "stream",
     "text": [
      "Parameters: {'eps': 0.09, 'step': 0.01, 'norm': 'inf', 'n_iterations': 45}\tTest Accuracy = 4 / 10000 = 0.0004\n"
     ]
    }
   ],
   "source": [
    "pgd_params={'eps': 0.09,\n",
    "            'step':0.01,\n",
    "            'norm':'inf',\n",
    "            'n_iterations':45}\n",
    "accuracy = pgd.evaluate_model_under_attack(**pgd_params)"
   ]
  },
  {
   "cell_type": "code",
   "execution_count": 31,
   "metadata": {},
   "outputs": [],
   "source": [
    "f = lambda batch : defence.cropF(batch,minval=-0.5,maxval=0.5)\n",
    "net.setF(f)"
   ]
  },
  {
   "cell_type": "code",
   "execution_count": 19,
   "metadata": {},
   "outputs": [
    {
     "name": "stdout",
     "output_type": "stream",
     "text": [
      "Accuracy of the network on the 10000 test images: 56 %\n"
     ]
    }
   ],
   "source": [
    "net.testModel()"
   ]
  },
  {
   "cell_type": "code",
   "execution_count": 32,
   "metadata": {},
   "outputs": [
    {
     "name": "stdout",
     "output_type": "stream",
     "text": [
      "Parameters: {'eps': 0.05}\tTest Accuracy = 213 / 10000 = 0.0213\n"
     ]
    }
   ],
   "source": [
    "fgsm_params={'eps':0.05}\n",
    "fgsm = FGSM_Attack(net)\n",
    "accuracy = fgsm.evaluate_model_under_attack(**fgsm_params)"
   ]
  },
  {
   "cell_type": "code",
   "execution_count": 33,
   "metadata": {},
   "outputs": [
    {
     "name": "stdout",
     "output_type": "stream",
     "text": [
      "Parameters: {'eps': 0.8, 'step': 0.01, 'norm': 2, 'n_iterations': 25}\tTest Accuracy = 1276 / 10000 = 0.1276\n"
     ]
    }
   ],
   "source": [
    "pgd_params={'eps': 0.8,\n",
    "            'step':0.01,\n",
    "            'norm':2,\n",
    "            'n_iterations':25}\n",
    "pgd = PGD_Attack(net)\n",
    "accuracy = pgd.evaluate_model_under_attack(**pgd_params)"
   ]
  },
  {
   "cell_type": "code",
   "execution_count": 34,
   "metadata": {},
   "outputs": [
    {
     "name": "stdout",
     "output_type": "stream",
     "text": [
      "Parameters: {'eps': 0.09, 'step': 0.01, 'norm': 'inf', 'n_iterations': 45}\tTest Accuracy = 1 / 10000 = 0.0001\n"
     ]
    }
   ],
   "source": [
    "pgd_params={'eps': 0.09,\n",
    "            'step':0.01,\n",
    "            'norm':'inf',\n",
    "            'n_iterations':45}\n",
    "accuracy = pgd.evaluate_model_under_attack(**pgd_params)"
   ]
  },
  {
   "cell_type": "markdown",
   "metadata": {},
   "source": [
    "## Quantization"
   ]
  },
  {
   "cell_type": "code",
   "execution_count": 26,
   "metadata": {},
   "outputs": [
    {
     "name": "stdout",
     "output_type": "stream",
     "text": [
      "True Label :7 frog\n"
     ]
    },
    {
     "data": {
      "image/png": "[encoded data removed]",
      "text/plain": [
       "<Figure size 432x288 with 1 Axes>"
      ]
     },
     "metadata": {
      "needs_background": "light"
     },
     "output_type": "display_data"
    }
   ],
   "source": [
    "#Exemple does not work\n",
    "import numpy as np\n",
    "index = 7\n",
    "img_src = t[index][0]\n",
    "img = t[index][0] / 2 + 0.5     # unnormalize\n",
    "label = t[index][1]\n",
    "npimg = img.numpy()\n",
    "print('True Label :' + str(index) + ' ' + classes[label])\n",
    "plt.imshow(np.transpose(npimg, (1, 2, 0)))\n",
    "plt.show()"
   ]
  },
  {
   "cell_type": "code",
   "execution_count": 35,
   "metadata": {},
   "outputs": [],
   "source": [
    "net.setF(defence.quant)"
   ]
  },
  {
   "cell_type": "code",
   "execution_count": 20,
   "metadata": {},
   "outputs": [
    {
     "name": "stdout",
     "output_type": "stream",
     "text": [
      "Accuracy of the network on the 10000 test images: 74 %\n"
     ]
    }
   ],
   "source": [
    "net.testModel()"
   ]
  },
  {
   "cell_type": "code",
   "execution_count": 36,
   "metadata": {},
   "outputs": [
    {
     "name": "stdout",
     "output_type": "stream",
     "text": [
      "Parameters: {'eps': 0.05}\tTest Accuracy = 329 / 10000 = 0.0329\n"
     ]
    }
   ],
   "source": [
    "fgsm_params={'eps':0.05}\n",
    "fgsm = FGSM_Attack(net)\n",
    "accuracy = fgsm.evaluate_model_under_attack(**fgsm_params)"
   ]
  },
  {
   "cell_type": "code",
   "execution_count": 37,
   "metadata": {},
   "outputs": [
    {
     "name": "stdout",
     "output_type": "stream",
     "text": [
      "Parameters: {'eps': 0.8, 'step': 0.01, 'norm': 2, 'n_iterations': 25}\tTest Accuracy = 1706 / 10000 = 0.1706\n"
     ]
    }
   ],
   "source": [
    "pgd_params={'eps': 0.8,\n",
    "            'step':0.01,\n",
    "            'norm':2,\n",
    "            'n_iterations':25}\n",
    "pgd = PGD_Attack(net)\n",
    "accuracy = pgd.evaluate_model_under_attack(**pgd_params)"
   ]
  },
  {
   "cell_type": "code",
   "execution_count": 38,
   "metadata": {},
   "outputs": [
    {
     "name": "stdout",
     "output_type": "stream",
     "text": [
      "Parameters: {'eps': 0.09, 'step': 0.01, 'norm': 'inf', 'n_iterations': 45}\tTest Accuracy = 0 / 10000 = 0.0\n"
     ]
    }
   ],
   "source": [
    "pgd_params={'eps': 0.09,\n",
    "            'step':0.01,\n",
    "            'norm':'inf',\n",
    "            'n_iterations':45}\n",
    "accuracy = pgd.evaluate_model_under_attack(**pgd_params)"
   ]
  },
  {
   "cell_type": "markdown",
   "metadata": {},
   "source": [
    "|Model|Untouched|FGSM|PGD L2|PGD Linf|CW L2|\n",
    "|-----|---------|----|------|--------|-----|\n",
    "|base|0.76|0.0504|0|0|0|\n",
    "|CropR|0.68|0|0|0|0|\n",
    "|CropF|0|0|0|0|0|\n",
    "|Quant|0.74|0|0|0|0|"
   ]
  },
  {
   "cell_type": "code",
   "execution_count": null,
   "metadata": {},
   "outputs": [],
   "source": []
  }
 ],
 "metadata": {
  "kernelspec": {
   "display_name": "Python 3",
   "language": "python",
   "name": "python3"
  },
  "language_info": {
   "codemirror_mode": {
    "name": "ipython",
    "version": 3
   },
   "file_extension": ".py",
   "mimetype": "text/x-python",
   "name": "python",
   "nbconvert_exporter": "python",
   "pygments_lexer": "ipython3",
   "version": "3.7.6"
  }
 },
 "nbformat": 4,
 "nbformat_minor": 4
}
