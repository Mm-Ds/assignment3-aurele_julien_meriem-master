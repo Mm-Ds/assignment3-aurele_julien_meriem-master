{
  "nbformat": 4,
  "nbformat_minor": 0,
  "metadata": {
    "kernelspec": {
      "display_name": "Python 3",
      "language": "python",
      "name": "python3"
    },
    "language_info": {
      "codemirror_mode": {
        "name": "ipython",
        "version": 3
      },
      "file_extension": ".py",
      "mimetype": "text/x-python",
      "name": "python",
      "nbconvert_exporter": "python",
      "pygments_lexer": "ipython3",
      "version": "3.7.6"
    },
    "colab": {
      "name": "Defense.ipynb",
      "provenance": []
    }
  },
  "cells": [
    {
      "cell_type": "code",
      "metadata": {
        "id": "YA3inXk-VStE"
      },
      "source": [
        "import numpy as np\n",
        "import matplotlib.pyplot as plt\n",
        "from model import Model\n",
        "import torch\n",
        "%matplotlib inline"
      ],
      "execution_count": null,
      "outputs": []
    },
    {
      "cell_type": "code",
      "metadata": {
        "id": "4aU4mXYoVSte"
      },
      "source": [
        "def imshow(img, title):\n",
        "    npimg = img.numpy()\n",
        "    fig = plt.figure(figsize = (5, 15))\n",
        "    plt.imshow(np.transpose(npimg,(1,2,0)))\n",
        "    plt.title(title)\n",
        "    plt.show()"
      ],
      "execution_count": null,
      "outputs": []
    },
    {
      "cell_type": "code",
      "metadata": {
        "id": "_tFaWYFgVStg",
        "outputId": "fbe5530f-842a-4968-f03a-45b4fcf02c7b"
      },
      "source": [
        "net = Model()\n",
        "net.loadModel()\n",
        "net.loadData(bs=1)\n",
        "#net.testModel()"
      ],
      "execution_count": null,
      "outputs": [
        {
          "output_type": "stream",
          "text": [
            "cuda:0\n",
            "Files already downloaded and verified\n"
          ],
          "name": "stdout"
        }
      ]
    },
    {
      "cell_type": "code",
      "metadata": {
        "id": "bcp9Ag4hVStj",
        "outputId": "45b271b1-ef9e-4bfe-90f4-b3fc3b09b561"
      },
      "source": [
        "classes = net.dataset.classes\n",
        "classes"
      ],
      "execution_count": null,
      "outputs": [
        {
          "output_type": "execute_result",
          "data": {
            "text/plain": [
              "['airplane',\n",
              " 'automobile',\n",
              " 'bird',\n",
              " 'cat',\n",
              " 'deer',\n",
              " 'dog',\n",
              " 'frog',\n",
              " 'horse',\n",
              " 'ship',\n",
              " 'truck']"
            ]
          },
          "metadata": {
            "tags": []
          },
          "execution_count": 14
        }
      ]
    },
    {
      "cell_type": "code",
      "metadata": {
        "id": "Agz_K88BVStl",
        "outputId": "19f399e7-f049-4b0a-cae7-e74cf96a9056"
      },
      "source": [
        "import numpy as np\n",
        "index = 7\n",
        "img_src = net.testset[index][0]\n",
        "img = net.testset[index][0] / 2 + 0.5     # unnormalize\n",
        "label = net.testset[index][1]\n",
        "npimg = img.numpy()\n",
        "print('True Label :' + str(index) + ' ' + classes[label])\n",
        "plt.imshow(np.transpose(npimg, (1, 2, 0)))\n",
        "plt.show()"
      ],
      "execution_count": null,
      "outputs": [
        {
          "output_type": "stream",
          "text": [
            "True Label :7 frog\n"
          ],
          "name": "stdout"
        },
        {
          "output_type": "display_data",
          "data": {
            "image/png": "[encoded data removed]",
            "text/plain": [
              "<Figure size 432x288 with 1 Axes>"
            ]
          },
          "metadata": {
            "tags": [],
            "needs_background": "light"
          }
        }
      ]
    },
    {
      "cell_type": "code",
      "metadata": {
        "id": "8crPN9iFVStm",
        "outputId": "7adb9a82-7e07-4bf9-a2ac-a4eb29d3a978"
      },
      "source": [
        "type(img_src)"
      ],
      "execution_count": null,
      "outputs": [
        {
          "output_type": "execute_result",
          "data": {
            "text/plain": [
              "torch.Tensor"
            ]
          },
          "metadata": {
            "tags": []
          },
          "execution_count": 16
        }
      ]
    },
    {
      "cell_type": "markdown",
      "metadata": {
        "id": "NMBeI-Y0VSto"
      },
      "source": [
        "## Gaussian Noise"
      ]
    },
    {
      "cell_type": "code",
      "metadata": {
        "id": "UCEwX1UBVStp"
      },
      "source": [
        "sigma = 0.5\n",
        "gauss = np.random.normal(0,sigma,(3,32,32)).reshape(3,32,32)"
      ],
      "execution_count": null,
      "outputs": []
    },
    {
      "cell_type": "code",
      "metadata": {
        "id": "Skags8PWVStq",
        "outputId": "fe6fcb71-803c-4b01-96e9-6721857d31bc"
      },
      "source": [
        "plt.imshow(np.transpose(gauss, (1, 2, 0)))"
      ],
      "execution_count": null,
      "outputs": [
        {
          "output_type": "stream",
          "text": [
            "Clipping input data to the valid range for imshow with RGB data ([0..1] for floats or [0..255] for integers).\n"
          ],
          "name": "stderr"
        },
        {
          "output_type": "execute_result",
          "data": {
            "text/plain": [
              "<matplotlib.image.AxesImage at 0x1f59bd94cc8>"
            ]
          },
          "metadata": {
            "tags": []
          },
          "execution_count": 34
        },
        {
          "output_type": "display_data",
          "data": {
            "image/png": "[encoded data removed]",
            "text/plain": [
              "<Figure size 432x288 with 1 Axes>"
            ]
          },
          "metadata": {
            "tags": [],
            "needs_background": "light"
          }
        }
      ]
    },
    {
      "cell_type": "code",
      "metadata": {
        "id": "j6Rnz1oQVStt",
        "outputId": "5ebfd23a-1ad7-42ce-dd1f-9d5641120623"
      },
      "source": [
        "noisy = gauss + npimg\n",
        "noisy = np.clip(noisy,0,1)\n",
        "plt.imshow(np.transpose(noisy, (1, 2, 0)))"
      ],
      "execution_count": null,
      "outputs": [
        {
          "output_type": "execute_result",
          "data": {
            "text/plain": [
              "<matplotlib.image.AxesImage at 0x1f59c5c5448>"
            ]
          },
          "metadata": {
            "tags": []
          },
          "execution_count": 35
        },
        {
          "output_type": "display_data",
          "data": {
            "image/png": "[encoded data removed]",
            "text/plain": [
              "<Figure size 432x288 with 1 Axes>"
            ]
          },
          "metadata": {
            "tags": [],
            "needs_background": "light"
          }
        }
      ]
    },
    {
      "cell_type": "code",
      "metadata": {
        "id": "EUEUUA7iVStu",
        "outputId": "96366e40-b449-49c2-b2ab-34e4c3fea6ab"
      },
      "source": [
        "noisy = (noisy -0.5)*2\n",
        "nt = torch.tensor(noisy, dtype=torch.float)\n",
        "classes[net.identify(nt)]"
      ],
      "execution_count": null,
      "outputs": [
        {
          "output_type": "execute_result",
          "data": {
            "text/plain": [
              "'frog'"
            ]
          },
          "metadata": {
            "tags": []
          },
          "execution_count": 36
        }
      ]
    },
    {
      "cell_type": "code",
      "metadata": {
        "id": "qM4eUWPAVStw",
        "outputId": "30ec38ec-9a4c-4c44-e346-416816a04188"
      },
      "source": [
        "n = 1000\n",
        "sigma = 0.5\n",
        "results = [0 for i in range(10)]\n",
        "for i in range(n):\n",
        "    gauss = np.random.normal(0,sigma,(3,32,32)).reshape(3,32,32)\n",
        "    timg = torch.tensor(img_src.numpy()+gauss, dtype=torch.float)\n",
        "    results[net.identify(timg)] += 1\n",
        "    \n",
        "results"
      ],
      "execution_count": null,
      "outputs": [
        {
          "output_type": "execute_result",
          "data": {
            "text/plain": [
              "[0, 0, 4, 0, 0, 0, 990, 0, 0, 6]"
            ]
          },
          "metadata": {
            "tags": []
          },
          "execution_count": 37
        }
      ]
    },
    {
      "cell_type": "code",
      "metadata": {
        "id": "d77koRr7VStx",
        "outputId": "2f309e84-7e2a-446c-d1b7-5e3fed9f2bbf"
      },
      "source": [
        "classes[np.argmax(results)]"
      ],
      "execution_count": null,
      "outputs": [
        {
          "output_type": "execute_result",
          "data": {
            "text/plain": [
              "'frog'"
            ]
          },
          "metadata": {
            "tags": []
          },
          "execution_count": 38
        }
      ]
    },
    {
      "cell_type": "markdown",
      "metadata": {
        "id": "oBmUj0GHVSty"
      },
      "source": [
        "## Laplace Noise"
      ]
    },
    {
      "cell_type": "code",
      "metadata": {
        "id": "Dtbm_IrXVStz"
      },
      "source": [
        "laplace = np.random.laplace(0,sigma,(3,32,32)).reshape(3,32,32)"
      ],
      "execution_count": null,
      "outputs": []
    },
    {
      "cell_type": "code",
      "metadata": {
        "id": "kWWzjuJXVSt0",
        "outputId": "6e387058-b1ce-49d1-b1bd-95dc7817123d"
      },
      "source": [
        "plt.imshow(np.transpose(laplace, (1, 2, 0)))"
      ],
      "execution_count": null,
      "outputs": [
        {
          "output_type": "stream",
          "text": [
            "Clipping input data to the valid range for imshow with RGB data ([0..1] for floats or [0..255] for integers).\n"
          ],
          "name": "stderr"
        },
        {
          "output_type": "execute_result",
          "data": {
            "text/plain": [
              "<matplotlib.image.AxesImage at 0x1f58bf39a88>"
            ]
          },
          "metadata": {
            "tags": []
          },
          "execution_count": 22
        },
        {
          "output_type": "display_data",
          "data": {
            "image/png": "[encoded data removed]",
            "text/plain": [
              "<Figure size 432x288 with 1 Axes>"
            ]
          },
          "metadata": {
            "tags": [],
            "needs_background": "light"
          }
        }
      ]
    },
    {
      "cell_type": "code",
      "metadata": {
        "id": "hEQXr-0MVSt1",
        "outputId": "f7cf6728-1d54-43d5-b861-437a99e56af3"
      },
      "source": [
        "noisy = laplace + npimg\n",
        "plt.imshow(np.transpose(noisy, (1, 2, 0)))"
      ],
      "execution_count": null,
      "outputs": [
        {
          "output_type": "stream",
          "text": [
            "Clipping input data to the valid range for imshow with RGB data ([0..1] for floats or [0..255] for integers).\n"
          ],
          "name": "stderr"
        },
        {
          "output_type": "execute_result",
          "data": {
            "text/plain": [
              "<matplotlib.image.AxesImage at 0x1f59117c3c8>"
            ]
          },
          "metadata": {
            "tags": []
          },
          "execution_count": 23
        },
        {
          "output_type": "display_data",
          "data": {
            "image/png": "[encoded data removed]",
            "text/plain": [
              "<Figure size 432x288 with 1 Axes>"
            ]
          },
          "metadata": {
            "tags": [],
            "needs_background": "light"
          }
        }
      ]
    },
    {
      "cell_type": "code",
      "metadata": {
        "id": "VTQA7VxKVSt2",
        "outputId": "d45012a3-9d38-4424-e7a7-c661a52f87eb"
      },
      "source": [
        "noisy = (noisy -0.5)*2\n",
        "nt = torch.tensor(noisy, dtype=torch.float)\n",
        "classes[net.identify(nt)]"
      ],
      "execution_count": null,
      "outputs": [
        {
          "output_type": "execute_result",
          "data": {
            "text/plain": [
              "'truck'"
            ]
          },
          "metadata": {
            "tags": []
          },
          "execution_count": 24
        }
      ]
    },
    {
      "cell_type": "code",
      "metadata": {
        "id": "EfHubcW3VSt3",
        "outputId": "4f9f62af-9aab-4814-ffa2-a7bebd9d3a9d"
      },
      "source": [
        "n = 1000\n",
        "sigma = 0.5\n",
        "results = [0 for i in range(10)]\n",
        "for i in range(n):\n",
        "    laplace = np.random.laplace(0,sigma,(3,32,32)).reshape(3,32,32)\n",
        "    timg = torch.tensor(img_src.numpy()+laplace, dtype=torch.float)\n",
        "    results[net.identify(timg)] += 1\n",
        "    \n",
        "results"
      ],
      "execution_count": null,
      "outputs": [
        {
          "output_type": "execute_result",
          "data": {
            "text/plain": [
              "[0, 1, 7, 0, 0, 0, 953, 0, 0, 39]"
            ]
          },
          "metadata": {
            "tags": []
          },
          "execution_count": 25
        }
      ]
    },
    {
      "cell_type": "code",
      "metadata": {
        "id": "8pa9VdKQVSt5",
        "outputId": "92658c25-e435-415e-c540-e4d97775b550"
      },
      "source": [
        "classes[np.argmax(results)]"
      ],
      "execution_count": null,
      "outputs": [
        {
          "output_type": "execute_result",
          "data": {
            "text/plain": [
              "'frog'"
            ]
          },
          "metadata": {
            "tags": []
          },
          "execution_count": 26
        }
      ]
    },
    {
      "cell_type": "markdown",
      "metadata": {
        "id": "JnidBH0NVSt6"
      },
      "source": [
        "## Uniform Noise"
      ]
    },
    {
      "cell_type": "code",
      "metadata": {
        "id": "IrF9WGHpVSt7"
      },
      "source": [
        "uni = np.random.uniform(-1,1,(3,32,32)).reshape(3,32,32)"
      ],
      "execution_count": null,
      "outputs": []
    },
    {
      "cell_type": "code",
      "metadata": {
        "id": "BBQtaFm6VSt7",
        "outputId": "0f8d7fb0-c8e5-4ea5-ce0f-68248ff93a36"
      },
      "source": [
        "plt.imshow(np.transpose(uni, (1, 2, 0)))"
      ],
      "execution_count": null,
      "outputs": [
        {
          "output_type": "stream",
          "text": [
            "Clipping input data to the valid range for imshow with RGB data ([0..1] for floats or [0..255] for integers).\n"
          ],
          "name": "stderr"
        },
        {
          "output_type": "execute_result",
          "data": {
            "text/plain": [
              "<matplotlib.image.AxesImage at 0x1f5911e7d88>"
            ]
          },
          "metadata": {
            "tags": []
          },
          "execution_count": 28
        },
        {
          "output_type": "display_data",
          "data": {
            "image/png": "[encoded data removed]",
            "text/plain": [
              "<Figure size 432x288 with 1 Axes>"
            ]
          },
          "metadata": {
            "tags": [],
            "needs_background": "light"
          }
        }
      ]
    },
    {
      "cell_type": "code",
      "metadata": {
        "id": "3GzFb-oLVSt8",
        "outputId": "284018b9-dc50-4453-c600-e62bb1a6073c"
      },
      "source": [
        "noisy = uni + npimg\n",
        "plt.imshow(np.transpose(noisy, (1, 2, 0)))"
      ],
      "execution_count": null,
      "outputs": [
        {
          "output_type": "stream",
          "text": [
            "Clipping input data to the valid range for imshow with RGB data ([0..1] for floats or [0..255] for integers).\n"
          ],
          "name": "stderr"
        },
        {
          "output_type": "execute_result",
          "data": {
            "text/plain": [
              "<matplotlib.image.AxesImage at 0x1f5912594c8>"
            ]
          },
          "metadata": {
            "tags": []
          },
          "execution_count": 29
        },
        {
          "output_type": "display_data",
          "data": {
            "image/png": "[encoded data removed]",
            "text/plain": [
              "<Figure size 432x288 with 1 Axes>"
            ]
          },
          "metadata": {
            "tags": [],
            "needs_background": "light"
          }
        }
      ]
    },
    {
      "cell_type": "code",
      "metadata": {
        "id": "fSjlP4fPVSt9",
        "outputId": "8966ae7f-65f5-4ebf-9a6f-742d046bc97d"
      },
      "source": [
        "noisy = (noisy -0.5)*2\n",
        "nt = torch.tensor(noisy, dtype=torch.float)\n",
        "classes[net.identify(nt)]"
      ],
      "execution_count": null,
      "outputs": [
        {
          "output_type": "execute_result",
          "data": {
            "text/plain": [
              "'frog'"
            ]
          },
          "metadata": {
            "tags": []
          },
          "execution_count": 30
        }
      ]
    },
    {
      "cell_type": "code",
      "metadata": {
        "id": "H0pT9cvJVSt-",
        "outputId": "72019f6f-d0b7-4c57-bbe3-2fdb214fb0e1"
      },
      "source": [
        "n = 1000\n",
        "sigma = 0.5\n",
        "results = [0 for i in range(10)]\n",
        "for i in range(n):\n",
        "    uni = np.random.uniform(-1,1,(3,32,32)).reshape(3,32,32)\n",
        "    timg = torch.tensor(img_src.numpy()+uni, dtype=torch.float)\n",
        "    results[net.identify(timg)] += 1\n",
        "    \n",
        "results"
      ],
      "execution_count": null,
      "outputs": [
        {
          "output_type": "execute_result",
          "data": {
            "text/plain": [
              "[0, 0, 0, 0, 0, 0, 986, 0, 0, 14]"
            ]
          },
          "metadata": {
            "tags": []
          },
          "execution_count": 31
        }
      ]
    },
    {
      "cell_type": "code",
      "metadata": {
        "id": "_3fOeBuPVSuA",
        "outputId": "743be338-0773-4466-ea6c-008dcdce6163"
      },
      "source": [
        "classes[np.argmax(results)]"
      ],
      "execution_count": null,
      "outputs": [
        {
          "output_type": "execute_result",
          "data": {
            "text/plain": [
              "'frog'"
            ]
          },
          "metadata": {
            "tags": []
          },
          "execution_count": 32
        }
      ]
    },
    {
      "cell_type": "markdown",
      "metadata": {
        "id": "kQYzGiedVSuA"
      },
      "source": [
        "## CROP RESIZE"
      ]
    },
    {
      "cell_type": "code",
      "metadata": {
        "id": "n230lGYJVSuB",
        "outputId": "4ff1ac85-96d8-4c21-b84c-cad05c8d9966"
      },
      "source": [
        "plt.imshow(np.transpose(npimg, (1, 2, 0)))"
      ],
      "execution_count": null,
      "outputs": [
        {
          "output_type": "execute_result",
          "data": {
            "text/plain": [
              "<matplotlib.image.AxesImage at 0x29e80677148>"
            ]
          },
          "metadata": {
            "tags": []
          },
          "execution_count": 25
        },
        {
          "output_type": "display_data",
          "data": {
            "image/png": "[encoded data removed]",
            "text/plain": [
              "<Figure size 432x288 with 1 Axes>"
            ]
          },
          "metadata": {
            "tags": [],
            "needs_background": "light"
          }
        }
      ]
    },
    {
      "cell_type": "code",
      "metadata": {
        "id": "p2GjMee8VSuC"
      },
      "source": [
        "import random\n",
        "def randomCrop(x,cs=4):\n",
        "    c, w, h = x.shape\n",
        "    x = random.randint(0,cs)\n",
        "    y = random.randint(0,cs)\n",
        "    crop = img_src.numpy()[:,x:w+x-cs,y:w+y-cs]\n",
        "    return crop"
      ],
      "execution_count": null,
      "outputs": []
    },
    {
      "cell_type": "code",
      "metadata": {
        "id": "FhpqjD5nVSuD",
        "outputId": "1cfcfd0f-548a-4220-bdca-08d71f33da2e"
      },
      "source": [
        "crop = randomCrop(img_src.numpy())\n",
        "crop.shape"
      ],
      "execution_count": null,
      "outputs": [
        {
          "output_type": "execute_result",
          "data": {
            "text/plain": [
              "(3, 28, 28)"
            ]
          },
          "metadata": {
            "tags": []
          },
          "execution_count": 27
        }
      ]
    },
    {
      "cell_type": "code",
      "metadata": {
        "id": "ZpnRThRKVSuE",
        "outputId": "a26bf5d9-2641-4d69-c5e4-8e6ca362355b"
      },
      "source": [
        "plt.imshow(np.transpose(crop/2+0.5, (1, 2, 0)))"
      ],
      "execution_count": null,
      "outputs": [
        {
          "output_type": "execute_result",
          "data": {
            "text/plain": [
              "<matplotlib.image.AxesImage at 0x29e806dd148>"
            ]
          },
          "metadata": {
            "tags": []
          },
          "execution_count": 28
        },
        {
          "output_type": "display_data",
          "data": {
            "image/png": "[encoded data removed]",
            "text/plain": [
              "<Figure size 432x288 with 1 Axes>"
            ]
          },
          "metadata": {
            "tags": [],
            "needs_background": "light"
          }
        }
      ]
    },
    {
      "cell_type": "code",
      "metadata": {
        "id": "x71wvsEyVSuF",
        "outputId": "a8b1bcdd-b399-4dd3-b62e-f089ceb2c746"
      },
      "source": [
        "from skimage.transform import resize\n",
        "cropr = resize(crop, (3,32,32))\n",
        "cropr.shape"
      ],
      "execution_count": null,
      "outputs": [
        {
          "output_type": "execute_result",
          "data": {
            "text/plain": [
              "(3, 32, 32)"
            ]
          },
          "metadata": {
            "tags": []
          },
          "execution_count": 29
        }
      ]
    },
    {
      "cell_type": "code",
      "metadata": {
        "id": "fEpS8TLHVSuG",
        "outputId": "53e8a0ca-ddbb-4340-cb69-dcc364183ce6"
      },
      "source": [
        "plt.imshow(np.transpose(cropr/2+0.5, (1, 2, 0)))"
      ],
      "execution_count": null,
      "outputs": [
        {
          "output_type": "execute_result",
          "data": {
            "text/plain": [
              "<matplotlib.image.AxesImage at 0x29f14dd1988>"
            ]
          },
          "metadata": {
            "tags": []
          },
          "execution_count": 30
        },
        {
          "output_type": "display_data",
          "data": {
            "image/png": "[encoded data removed]",
            "text/plain": [
              "<Figure size 432x288 with 1 Axes>"
            ]
          },
          "metadata": {
            "tags": [],
            "needs_background": "light"
          }
        }
      ]
    },
    {
      "cell_type": "code",
      "metadata": {
        "id": "vXjc5FJgVSuH",
        "outputId": "71c425ef-8333-4563-e3bb-eaadc3522785"
      },
      "source": [
        "ct = torch.tensor(cropr, dtype=torch.float)\n",
        "classes[net.identify(ct)]"
      ],
      "execution_count": null,
      "outputs": [
        {
          "output_type": "execute_result",
          "data": {
            "text/plain": [
              "'frog'"
            ]
          },
          "metadata": {
            "tags": []
          },
          "execution_count": 31
        }
      ]
    },
    {
      "cell_type": "markdown",
      "metadata": {
        "id": "YdCp6DbvVSuI"
      },
      "source": [
        "## Crop and fill"
      ]
    },
    {
      "cell_type": "code",
      "metadata": {
        "id": "EE8hqfNAVSuJ",
        "outputId": "3103eba6-fc13-4bf2-9ecc-fd1aea36dd5f"
      },
      "source": [
        "plt.imshow(np.transpose(npimg, (1, 2, 0)))"
      ],
      "execution_count": null,
      "outputs": [
        {
          "output_type": "execute_result",
          "data": {
            "text/plain": [
              "<matplotlib.image.AxesImage at 0x29f14e6ca88>"
            ]
          },
          "metadata": {
            "tags": []
          },
          "execution_count": 32
        },
        {
          "output_type": "display_data",
          "data": {
            "image/png": "[encoded data removed]",
            "text/plain": [
              "<Figure size 432x288 with 1 Axes>"
            ]
          },
          "metadata": {
            "tags": [],
            "needs_background": "light"
          }
        }
      ]
    },
    {
      "cell_type": "code",
      "metadata": {
        "id": "HMEXwC87VSuL",
        "outputId": "b0966606-4f20-461b-a503-541d393cc13c"
      },
      "source": [
        "crop = randomCrop(img_src.numpy())\n",
        "crop.shape"
      ],
      "execution_count": null,
      "outputs": [
        {
          "output_type": "execute_result",
          "data": {
            "text/plain": [
              "(3, 28, 28)"
            ]
          },
          "metadata": {
            "tags": []
          },
          "execution_count": 33
        }
      ]
    },
    {
      "cell_type": "code",
      "metadata": {
        "id": "Yc09R-1WVSuO",
        "outputId": "30be6dd9-75fc-49b7-fe22-0995c92439b5"
      },
      "source": [
        "plt.imshow(np.transpose(crop/2+0.5, (1, 2, 0)))"
      ],
      "execution_count": null,
      "outputs": [
        {
          "output_type": "execute_result",
          "data": {
            "text/plain": [
              "<matplotlib.image.AxesImage at 0x29f1af6af88>"
            ]
          },
          "metadata": {
            "tags": []
          },
          "execution_count": 34
        },
        {
          "output_type": "display_data",
          "data": {
            "image/png": "[encoded data removed]",
            "text/plain": [
              "<Figure size 432x288 with 1 Axes>"
            ]
          },
          "metadata": {
            "tags": [],
            "needs_background": "light"
          }
        }
      ]
    },
    {
      "cell_type": "code",
      "metadata": {
        "id": "ZV_l0rgwVSuP",
        "outputId": "209a0858-b710-499d-ae68-200ce8227ddd"
      },
      "source": [
        "cropf = np.stack([np.pad(crop[c,:,:],((2,2),(2,2)),mode='constant', constant_values=random.uniform(-1, 1)) for c in range(3)], axis=0)\n",
        "cropf.shape"
      ],
      "execution_count": null,
      "outputs": [
        {
          "output_type": "execute_result",
          "data": {
            "text/plain": [
              "(3, 32, 32)"
            ]
          },
          "metadata": {
            "tags": []
          },
          "execution_count": 36
        }
      ]
    },
    {
      "cell_type": "code",
      "metadata": {
        "id": "zPvPctY-VSuQ",
        "outputId": "3c93c2b1-21c6-4e0b-da95-4ace7723b03e"
      },
      "source": [
        "plt.imshow(np.transpose(cropf/2+0.5, (1, 2, 0)))"
      ],
      "execution_count": null,
      "outputs": [
        {
          "output_type": "execute_result",
          "data": {
            "text/plain": [
              "<matplotlib.image.AxesImage at 0x29f2324c408>"
            ]
          },
          "metadata": {
            "tags": []
          },
          "execution_count": 37
        },
        {
          "output_type": "display_data",
          "data": {
            "image/png": "[encoded data removed]",
            "text/plain": [
              "<Figure size 432x288 with 1 Axes>"
            ]
          },
          "metadata": {
            "tags": [],
            "needs_background": "light"
          }
        }
      ]
    },
    {
      "cell_type": "code",
      "metadata": {
        "id": "3G4W9dyXVSuR",
        "outputId": "7957f603-13f8-4b0b-f0a5-70a1c4c82135"
      },
      "source": [
        "cf = torch.tensor(cropf, dtype=torch.float)\n",
        "classes[net.identify(cf)]"
      ],
      "execution_count": null,
      "outputs": [
        {
          "output_type": "execute_result",
          "data": {
            "text/plain": [
              "'frog'"
            ]
          },
          "metadata": {
            "tags": []
          },
          "execution_count": 38
        }
      ]
    },
    {
      "cell_type": "markdown",
      "metadata": {
        "id": "AheypEg3VSuS"
      },
      "source": [
        "## Quantization"
      ]
    },
    {
      "cell_type": "code",
      "metadata": {
        "id": "Ze-kpl-iVSuS",
        "outputId": "dd8a577f-8afe-4080-90a7-708395c9e409"
      },
      "source": [
        "import numpy as np\n",
        "from skimage import io\n",
        "from sklearn.cluster import KMeans\n",
        "\n",
        "n_colors = 15\n",
        "\n",
        "original = np.transpose(500*npimg/2+0.5, (1, 2, 0))\n",
        "arr = original.reshape((-1, 3))\n",
        "kmeans = KMeans(n_clusters=n_colors, random_state=42).fit(arr)\n",
        "labels = kmeans.labels_\n",
        "centers = kmeans.cluster_centers_\n",
        "less_colors = centers[labels].reshape(original.shape).astype('uint8')\n",
        "\n",
        "io.imshow(less_colors)"
      ],
      "execution_count": null,
      "outputs": [
        {
          "output_type": "execute_result",
          "data": {
            "text/plain": [
              "<matplotlib.image.AxesImage at 0x29f23e3b408>"
            ]
          },
          "metadata": {
            "tags": []
          },
          "execution_count": 39
        },
        {
          "output_type": "display_data",
          "data": {
            "image/png": "[encoded data removed]",
            "text/plain": [
              "<Figure size 432x288 with 1 Axes>"
            ]
          },
          "metadata": {
            "tags": [],
            "needs_background": "light"
          }
        }
      ]
    },
    {
      "cell_type": "code",
      "metadata": {
        "id": "0ItJoKZuVSuT",
        "outputId": "a3be6700-28d0-4dcf-faa6-6e514b4de6e2"
      },
      "source": [
        "lc = less_colors/255\n",
        "plt.imshow(lc)"
      ],
      "execution_count": null,
      "outputs": [
        {
          "output_type": "execute_result",
          "data": {
            "text/plain": [
              "<matplotlib.image.AxesImage at 0x29f3de78248>"
            ]
          },
          "metadata": {
            "tags": []
          },
          "execution_count": 40
        },
        {
          "output_type": "display_data",
          "data": {
            "image/png": "[encoded data removed]",
            "text/plain": [
              "<Figure size 432x288 with 1 Axes>"
            ]
          },
          "metadata": {
            "tags": [],
            "needs_background": "light"
          }
        }
      ]
    },
    {
      "cell_type": "code",
      "metadata": {
        "id": "_n2930-kVSuU",
        "outputId": "903cbfc4-5379-4b79-93ee-81daba067c21"
      },
      "source": [
        "lct = np.transpose((lc-0.5)*2, (2, 0, 1))\n",
        "lct.shape"
      ],
      "execution_count": null,
      "outputs": [
        {
          "output_type": "execute_result",
          "data": {
            "text/plain": [
              "(3, 32, 32)"
            ]
          },
          "metadata": {
            "tags": []
          },
          "execution_count": 41
        }
      ]
    },
    {
      "cell_type": "code",
      "metadata": {
        "id": "jzZghXX_VSuV",
        "outputId": "1a48c79e-376e-4731-c0dd-45d1fe392347"
      },
      "source": [
        "qt = torch.tensor(lct, dtype=torch.float)\n",
        "classes[net.identify(qt)]"
      ],
      "execution_count": null,
      "outputs": [
        {
          "output_type": "execute_result",
          "data": {
            "text/plain": [
              "'frog'"
            ]
          },
          "metadata": {
            "tags": []
          },
          "execution_count": 42
        }
      ]
    }
  ]
}